{
 "cells": [
  {
   "cell_type": "code",
   "execution_count": 20,
   "id": "4e57b3b5",
   "metadata": {},
   "outputs": [],
   "source": [
    "file = \"./requirements.txt\""
   ]
  },
  {
   "cell_type": "code",
   "execution_count": 21,
   "id": "298bc070",
   "metadata": {},
   "outputs": [],
   "source": [
    "mod_list =[]\n",
    "with open(file) as file_in:\n",
    "    for x in file_in:\n",
    "        res = x.split()\n",
    "        if len(res)<2:\n",
    "            mod_list.append(res[0])\n",
    "        else: \n",
    "            mod_list.append(res[1])"
   ]
  },
  {
   "cell_type": "code",
   "execution_count": 22,
   "id": "446ad14f",
   "metadata": {},
   "outputs": [],
   "source": [
    "f = open(file, \"w\")\n",
    "for mod in mod_list:\n",
    "    f.write(mod)\n",
    "    f.write(\"\\n\")\n",
    "f.close()"
   ]
  }
 ],
 "metadata": {
  "kernelspec": {
   "display_name": "Python 3 (ipykernel)",
   "language": "python",
   "name": "python3"
  },
  "language_info": {
   "codemirror_mode": {
    "name": "ipython",
    "version": 3
   },
   "file_extension": ".py",
   "mimetype": "text/x-python",
   "name": "python",
   "nbconvert_exporter": "python",
   "pygments_lexer": "ipython3",
   "version": "3.8.10"
  }
 },
 "nbformat": 4,
 "nbformat_minor": 5
}
