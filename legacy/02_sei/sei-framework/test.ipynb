{
 "cells": [
  {
   "cell_type": "code",
   "execution_count": 87,
   "id": "4667c612",
   "metadata": {},
   "outputs": [],
   "source": [
    "import torch\n",
    "from model.sei import Sei\n",
    "from collections import OrderedDict\n",
    "from selene_sdk.utils import load_path\n",
    "import numpy as np\n",
    "import re\n",
    "\n",
    "def onehote(sequence):\n",
    "    sequence = sequence.lower()\n",
    "    sequence = re.sub('[^acgt]', 'z', sequence)\n",
    "    sequence_array = np.array(list(sequence))\n",
    "    \n",
    "    seq2=list()\n",
    "    mapping = {\"a\":[1., 0., 0., 0.], \"c\": [0., 1., 0., 0.], \"g\": [0., 0., 1., 0.], \"t\":[0., 0., 0., 1.]}\n",
    "    for i in sequence:\n",
    "        seq2.append(mapping[i]  if i in mapping.keys() else [0., 0., 0., 0.]) \n",
    "    return np.stack(seq2).transpose()\n",
    "\n",
    "def prep_tensor(sequence): \n",
    "    sequence_array = np.expand_dims(onehote(sequence), axis = 0)\n",
    "    tensor = torch.from_numpy(sequence_array).float()\n",
    "    return tensor.float()"
   ]
  },
  {
   "cell_type": "code",
   "execution_count": 2,
   "id": "b5a63bf9",
   "metadata": {},
   "outputs": [],
   "source": [
    "test = torch.load(\"model/model/sei.pth\")\n",
    "weights = OrderedDict()\n",
    "for key in test.keys(): \n",
    "    weights[key.replace('module.model.', '')] = test[key]"
   ]
  },
  {
   "cell_type": "code",
   "execution_count": 3,
   "id": "46c10732",
   "metadata": {},
   "outputs": [],
   "source": [
    "model = Sei()\n",
    "model.load_state_dict(weights)\n",
    "#torch.from_numpy(np.ones((1,4,4000))).float().shape"
   ]
  },
  {
   "cell_type": "code",
   "execution_count": 89,
   "id": "a597d0dd",
   "metadata": {},
   "outputs": [],
   "source": [
    "seq_test = \"ACTG\"*1000\n",
    "pred_test = model(prep_tensor(seq_test))"
   ]
  },
  {
   "cell_type": "code",
   "execution_count": 90,
   "id": "3a0524b3",
   "metadata": {},
   "outputs": [
    {
     "data": {
      "text/plain": [
       "tensor([[4.2017e-12, 1.8203e-04, 5.5104e-05,  ..., 2.6884e-10, 3.0488e-06,\n",
       "         1.5804e-06]], grad_fn=<SigmoidBackward0>)"
      ]
     },
     "execution_count": 90,
     "metadata": {},
     "output_type": "execute_result"
    }
   ],
   "source": [
    "pred_test"
   ]
  }
 ],
 "metadata": {
  "kernelspec": {
   "display_name": "Python [conda env:sei-cpu] *",
   "language": "python",
   "name": "conda-env-sei-cpu-py"
  },
  "language_info": {
   "codemirror_mode": {
    "name": "ipython",
    "version": 3
   },
   "file_extension": ".py",
   "mimetype": "text/x-python",
   "name": "python",
   "nbconvert_exporter": "python",
   "pygments_lexer": "ipython3",
   "version": "3.6.13"
  }
 },
 "nbformat": 4,
 "nbformat_minor": 5
}
