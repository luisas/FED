{
 "cells": [
  {
   "cell_type": "markdown",
   "id": "ed624904",
   "metadata": {},
   "source": [
    "# Enformer human validation "
   ]
  },
  {
   "cell_type": "markdown",
   "id": "dafbf0ab",
   "metadata": {},
   "source": [
    "### Load  pre-trained model "
   ]
  },
  {
   "cell_type": "code",
   "execution_count": 1,
   "id": "ba173e26",
   "metadata": {},
   "outputs": [
    {
     "name": "stderr",
     "output_type": "stream",
     "text": [
      "2022-01-25 17:07:17.940029: W tensorflow/stream_executor/platform/default/dso_loader.cc:64] Could not load dynamic library 'libcudart.so.11.0'; dlerror: libcudart.so.11.0: cannot open shared object file: No such file or directory\n",
      "2022-01-25 17:07:17.940044: I tensorflow/stream_executor/cuda/cudart_stub.cc:29] Ignore above cudart dlerror if you do not have a GPU set up on your machine.\n"
     ]
    }
   ],
   "source": [
    "import tensorflow as tf\n",
    "import tensorflow_hub as hub\n",
    "import joblib\n",
    "import gzip\n",
    "import kipoiseq\n",
    "from kipoiseq import Interval\n",
    "import pyfaidx\n",
    "import pandas as pd\n",
    "import numpy as np\n",
    "import matplotlib.pyplot as plt\n",
    "import matplotlib as mpl\n",
    "import seaborn as sns\n",
    "import os\n",
    "import enformer \n",
    "from tqdm import tqdm\n",
    "import importlib.util\n",
    "\n",
    "%matplotlib inline\n",
    "%config InlineBackend.figure_format = 'retina'"
   ]
  },
  {
   "cell_type": "code",
   "execution_count": 2,
   "id": "7fd62e51",
   "metadata": {},
   "outputs": [],
   "source": [
    "# import enformer.py as module\n",
    "#spec = importlib.util.spec_from_file_location(\"enformer\", os.path.join(os.getcwd() ,\"enformer.py\"))\n",
    "#enformer = importlib.util.module_from_spec(spec)\n",
    "#spec.loader.exec_module(enformer)\n",
    "#from enformer import * \n",
    "\n",
    "# import utils.py as module\n",
    "spec_utils = importlib.util.spec_from_file_location(\"enformer\", os.path.join(os.getcwd() ,\"utils.py\"))\n",
    "utils = importlib.util.module_from_spec(spec_utils)\n",
    "spec_utils.loader.exec_module(utils)\n",
    "from utils import * "
   ]
  },
  {
   "cell_type": "markdown",
   "id": "80b6254a",
   "metadata": {},
   "source": [
    "### Load files"
   ]
  },
  {
   "cell_type": "code",
   "execution_count": 3,
   "id": "7f0900f6",
   "metadata": {},
   "outputs": [],
   "source": [
    "transform_path = 'gs://dm-enformer/models/enformer.finetuned.SAD.robustscaler-PCA500-robustscaler.transform.pkl'\n",
    "model_path = 'https://tfhub.dev/deepmind/enformer/1'\n",
    "datadir = \"../../../../data/FED\"\n",
    "fasta_file = os.path.join(datadir, \"hg38.fa\")\n",
    "human_sequences = os.path.join(datadir, \"data_human_sequences.bed\")"
   ]
  },
  {
   "cell_type": "code",
   "execution_count": 4,
   "id": "8efd7130",
   "metadata": {},
   "outputs": [
    {
     "data": {
      "text/plain": [
       "Faidx(\"../../../../data/FED/hg38.fa\")"
      ]
     },
     "execution_count": 4,
     "metadata": {},
     "output_type": "execute_result"
    }
   ],
   "source": [
    "pyfaidx.Faidx(fasta_file)"
   ]
  },
  {
   "cell_type": "code",
   "execution_count": 5,
   "id": "91386fb3",
   "metadata": {},
   "outputs": [
    {
     "name": "stderr",
     "output_type": "stream",
     "text": [
      "2022-01-25 17:07:28.648484: W tensorflow/stream_executor/platform/default/dso_loader.cc:64] Could not load dynamic library 'libcuda.so.1'; dlerror: libcuda.so.1: cannot open shared object file: No such file or directory\n",
      "2022-01-25 17:07:28.648502: W tensorflow/stream_executor/cuda/cuda_driver.cc:269] failed call to cuInit: UNKNOWN ERROR (303)\n",
      "2022-01-25 17:07:28.648516: I tensorflow/stream_executor/cuda/cuda_diagnostics.cc:156] kernel driver does not appear to be running on this host (luisasantus-HP-EliteDesk-800-G5-TWR): /proc/driver/nvidia/version does not exist\n",
      "2022-01-25 17:07:28.648694: I tensorflow/core/platform/cpu_feature_guard.cc:151] This TensorFlow binary is optimized with oneAPI Deep Neural Network Library (oneDNN) to use the following CPU instructions in performance-critical operations:  AVX2 FMA\n",
      "To enable them in other operations, rebuild TensorFlow with the appropriate compiler flags.\n"
     ]
    }
   ],
   "source": [
    "model = Enformer(model_path)"
   ]
  },
  {
   "cell_type": "code",
   "execution_count": 6,
   "id": "f3e380ec",
   "metadata": {},
   "outputs": [],
   "source": [
    "fasta_extractor = FastaStringExtractor(fasta_file)"
   ]
  },
  {
   "cell_type": "markdown",
   "id": "d8d2f5d7",
   "metadata": {},
   "source": [
    "### Check tracks"
   ]
  },
  {
   "cell_type": "code",
   "execution_count": 7,
   "id": "ee0b5360",
   "metadata": {},
   "outputs": [
    {
     "data": {
      "text/html": [
       "<div>\n",
       "<style scoped>\n",
       "    .dataframe tbody tr th:only-of-type {\n",
       "        vertical-align: middle;\n",
       "    }\n",
       "\n",
       "    .dataframe tbody tr th {\n",
       "        vertical-align: top;\n",
       "    }\n",
       "\n",
       "    .dataframe thead th {\n",
       "        text-align: right;\n",
       "    }\n",
       "</style>\n",
       "<table border=\"1\" class=\"dataframe\">\n",
       "  <thead>\n",
       "    <tr style=\"text-align: right;\">\n",
       "      <th></th>\n",
       "      <th>index</th>\n",
       "      <th>genome</th>\n",
       "      <th>identifier</th>\n",
       "      <th>file</th>\n",
       "      <th>clip</th>\n",
       "      <th>scale</th>\n",
       "      <th>sum_stat</th>\n",
       "      <th>description</th>\n",
       "    </tr>\n",
       "  </thead>\n",
       "  <tbody>\n",
       "    <tr>\n",
       "      <th>0</th>\n",
       "      <td>0</td>\n",
       "      <td>0</td>\n",
       "      <td>ENCFF833POA</td>\n",
       "      <td>/home/drk/tillage/datasets/human/dnase/encode/...</td>\n",
       "      <td>32</td>\n",
       "      <td>2</td>\n",
       "      <td>mean</td>\n",
       "      <td>DNASE:cerebellum male adult (27 years) and mal...</td>\n",
       "    </tr>\n",
       "    <tr>\n",
       "      <th>1</th>\n",
       "      <td>1</td>\n",
       "      <td>0</td>\n",
       "      <td>ENCFF110QGM</td>\n",
       "      <td>/home/drk/tillage/datasets/human/dnase/encode/...</td>\n",
       "      <td>32</td>\n",
       "      <td>2</td>\n",
       "      <td>mean</td>\n",
       "      <td>DNASE:frontal cortex male adult (27 years) and...</td>\n",
       "    </tr>\n",
       "    <tr>\n",
       "      <th>2</th>\n",
       "      <td>2</td>\n",
       "      <td>0</td>\n",
       "      <td>ENCFF880MKD</td>\n",
       "      <td>/home/drk/tillage/datasets/human/dnase/encode/...</td>\n",
       "      <td>32</td>\n",
       "      <td>2</td>\n",
       "      <td>mean</td>\n",
       "      <td>DNASE:chorion</td>\n",
       "    </tr>\n",
       "    <tr>\n",
       "      <th>3</th>\n",
       "      <td>3</td>\n",
       "      <td>0</td>\n",
       "      <td>ENCFF463ZLQ</td>\n",
       "      <td>/home/drk/tillage/datasets/human/dnase/encode/...</td>\n",
       "      <td>32</td>\n",
       "      <td>2</td>\n",
       "      <td>mean</td>\n",
       "      <td>DNASE:Ishikawa treated with 0.02% dimethyl sul...</td>\n",
       "    </tr>\n",
       "    <tr>\n",
       "      <th>4</th>\n",
       "      <td>4</td>\n",
       "      <td>0</td>\n",
       "      <td>ENCFF890OGQ</td>\n",
       "      <td>/home/drk/tillage/datasets/human/dnase/encode/...</td>\n",
       "      <td>32</td>\n",
       "      <td>2</td>\n",
       "      <td>mean</td>\n",
       "      <td>DNASE:GM03348</td>\n",
       "    </tr>\n",
       "    <tr>\n",
       "      <th>...</th>\n",
       "      <td>...</td>\n",
       "      <td>...</td>\n",
       "      <td>...</td>\n",
       "      <td>...</td>\n",
       "      <td>...</td>\n",
       "      <td>...</td>\n",
       "      <td>...</td>\n",
       "      <td>...</td>\n",
       "    </tr>\n",
       "    <tr>\n",
       "      <th>5308</th>\n",
       "      <td>5308</td>\n",
       "      <td>0</td>\n",
       "      <td>CNhs14239</td>\n",
       "      <td>/home/drk/tillage/datasets/human/cage/fantom/C...</td>\n",
       "      <td>384</td>\n",
       "      <td>1</td>\n",
       "      <td>sum</td>\n",
       "      <td>CAGE:epithelioid sarcoma cell line:HS-ES-2R</td>\n",
       "    </tr>\n",
       "    <tr>\n",
       "      <th>5309</th>\n",
       "      <td>5309</td>\n",
       "      <td>0</td>\n",
       "      <td>CNhs14240</td>\n",
       "      <td>/home/drk/tillage/datasets/human/cage/fantom/C...</td>\n",
       "      <td>384</td>\n",
       "      <td>1</td>\n",
       "      <td>sum</td>\n",
       "      <td>CAGE:squamous cell lung carcinoma cell line:RE...</td>\n",
       "    </tr>\n",
       "    <tr>\n",
       "      <th>5310</th>\n",
       "      <td>5310</td>\n",
       "      <td>0</td>\n",
       "      <td>CNhs14241</td>\n",
       "      <td>/home/drk/tillage/datasets/human/cage/fantom/C...</td>\n",
       "      <td>384</td>\n",
       "      <td>1</td>\n",
       "      <td>sum</td>\n",
       "      <td>CAGE:gastric cancer cell line:GSS</td>\n",
       "    </tr>\n",
       "    <tr>\n",
       "      <th>5311</th>\n",
       "      <td>5311</td>\n",
       "      <td>0</td>\n",
       "      <td>CNhs14244</td>\n",
       "      <td>/home/drk/tillage/datasets/human/cage/fantom/C...</td>\n",
       "      <td>384</td>\n",
       "      <td>1</td>\n",
       "      <td>sum</td>\n",
       "      <td>CAGE:carcinoid cell line:NCI-H727</td>\n",
       "    </tr>\n",
       "    <tr>\n",
       "      <th>5312</th>\n",
       "      <td>5312</td>\n",
       "      <td>0</td>\n",
       "      <td>CNhs14245</td>\n",
       "      <td>/home/drk/tillage/datasets/human/cage/fantom/C...</td>\n",
       "      <td>384</td>\n",
       "      <td>1</td>\n",
       "      <td>sum</td>\n",
       "      <td>CAGE:lung adenocarcinoma, papillary cell line:...</td>\n",
       "    </tr>\n",
       "  </tbody>\n",
       "</table>\n",
       "<p>5313 rows × 8 columns</p>\n",
       "</div>"
      ],
      "text/plain": [
       "      index  genome   identifier  \\\n",
       "0         0       0  ENCFF833POA   \n",
       "1         1       0  ENCFF110QGM   \n",
       "2         2       0  ENCFF880MKD   \n",
       "3         3       0  ENCFF463ZLQ   \n",
       "4         4       0  ENCFF890OGQ   \n",
       "...     ...     ...          ...   \n",
       "5308   5308       0    CNhs14239   \n",
       "5309   5309       0    CNhs14240   \n",
       "5310   5310       0    CNhs14241   \n",
       "5311   5311       0    CNhs14244   \n",
       "5312   5312       0    CNhs14245   \n",
       "\n",
       "                                                   file  clip  scale sum_stat  \\\n",
       "0     /home/drk/tillage/datasets/human/dnase/encode/...    32      2     mean   \n",
       "1     /home/drk/tillage/datasets/human/dnase/encode/...    32      2     mean   \n",
       "2     /home/drk/tillage/datasets/human/dnase/encode/...    32      2     mean   \n",
       "3     /home/drk/tillage/datasets/human/dnase/encode/...    32      2     mean   \n",
       "4     /home/drk/tillage/datasets/human/dnase/encode/...    32      2     mean   \n",
       "...                                                 ...   ...    ...      ...   \n",
       "5308  /home/drk/tillage/datasets/human/cage/fantom/C...   384      1      sum   \n",
       "5309  /home/drk/tillage/datasets/human/cage/fantom/C...   384      1      sum   \n",
       "5310  /home/drk/tillage/datasets/human/cage/fantom/C...   384      1      sum   \n",
       "5311  /home/drk/tillage/datasets/human/cage/fantom/C...   384      1      sum   \n",
       "5312  /home/drk/tillage/datasets/human/cage/fantom/C...   384      1      sum   \n",
       "\n",
       "                                            description  \n",
       "0     DNASE:cerebellum male adult (27 years) and mal...  \n",
       "1     DNASE:frontal cortex male adult (27 years) and...  \n",
       "2                                         DNASE:chorion  \n",
       "3     DNASE:Ishikawa treated with 0.02% dimethyl sul...  \n",
       "4                                         DNASE:GM03348  \n",
       "...                                                 ...  \n",
       "5308        CAGE:epithelioid sarcoma cell line:HS-ES-2R  \n",
       "5309  CAGE:squamous cell lung carcinoma cell line:RE...  \n",
       "5310                  CAGE:gastric cancer cell line:GSS  \n",
       "5311                  CAGE:carcinoid cell line:NCI-H727  \n",
       "5312  CAGE:lung adenocarcinoma, papillary cell line:...  \n",
       "\n",
       "[5313 rows x 8 columns]"
      ]
     },
     "execution_count": 7,
     "metadata": {},
     "output_type": "execute_result"
    }
   ],
   "source": [
    "# Download targets from Basenji2 dataset \n",
    "# Cite: Kelley et al Cross-species regulatory sequence activity prediction. PLoS Comput. Biol. 16, e1008050 (2020).\n",
    "targets_txt = 'https://raw.githubusercontent.com/calico/basenji/master/manuscripts/cross2020/targets_human.txt'\n",
    "df_targets = pd.read_csv(targets_txt, sep='\\t')\n",
    "df_targets"
   ]
  },
  {
   "cell_type": "code",
   "execution_count": 63,
   "id": "c52bde9d",
   "metadata": {},
   "outputs": [
    {
     "name": "stdout",
     "output_type": "stream",
     "text": [
      "['Supplementary Table 1', 'Supplementary Table 2', 'Supplementary Table 3']\n"
     ]
    }
   ],
   "source": [
    "suppl = pd.ExcelFile(os.path.join(datadir, \"enformer_suppl.xlsx\"))\n",
    "print(suppl.sheet_names)\n",
    "suppl_human = suppl.parse(suppl.sheet_names[1])\n",
    "suppl_mouse = suppl.parse(suppl.sheet_names[2])\n",
    "suppl_human[\"organism\"] = \"human\"\n",
    "suppl_mouse[\"organism\"] = \"mouse\"\n",
    "frames = [suppl_human, suppl_mouse]\n",
    "suppl_df = pd.concat(frames)"
   ]
  },
  {
   "cell_type": "code",
   "execution_count": 65,
   "id": "4d63e3bd",
   "metadata": {},
   "outputs": [
    {
     "data": {
      "text/plain": [
       "0       DNASE\n",
       "1       DNASE\n",
       "2       DNASE\n",
       "3       DNASE\n",
       "4       DNASE\n",
       "        ...  \n",
       "1638     CAGE\n",
       "1639     CAGE\n",
       "1640     CAGE\n",
       "1641     CAGE\n",
       "1642     CAGE\n",
       "Name: assay_type, Length: 6956, dtype: object"
      ]
     },
     "execution_count": 65,
     "metadata": {},
     "output_type": "execute_result"
    }
   ],
   "source": [
    "suppl_df[\"assay_type\"]"
   ]
  },
  {
   "cell_type": "markdown",
   "id": "46c07dcd",
   "metadata": {},
   "source": [
    "## predict human validation set "
   ]
  },
  {
   "cell_type": "code",
   "execution_count": null,
   "id": "736f379b",
   "metadata": {},
   "outputs": [],
   "source": [
    "target_interval = kipoiseq.Interval('chr1', 35_082_742, 35_197_430)  \n",
    "\n",
    "# One hot encode \n",
    "# resize only takes the sequence of that interval, center it and gets the reduced sequence length \n",
    "sequence_one_hot = one_hot_encode(fasta_extractor.extract(target_interval.resize(393216)))\n",
    "\n",
    "# Predict on that sequence\n",
    "predictions = model.predict_on_batch(sequence_one_hot[np.newaxis])['human'][0]"
   ]
  },
  {
   "cell_type": "code",
   "execution_count": 49,
   "id": "92723a53",
   "metadata": {},
   "outputs": [
    {
     "data": {
      "text/plain": [
       "[Interval(chrom='chr6', start=165740202, end=165871274, name='', strand='.', ...),\n",
       " Interval(chrom='chrX', start=55044496, end=55175568, name='', strand='.', ...),\n",
       " Interval(chrom='chrX', start=84489673, end=84620745, name='', strand='.', ...),\n",
       " Interval(chrom='chrX', start=26382093, end=26513165, name='', strand='.', ...),\n",
       " Interval(chrom='chr7', start=2304644, end=2435716, name='', strand='.', ...)]"
      ]
     },
     "execution_count": 49,
     "metadata": {},
     "output_type": "execute_result"
    }
   ],
   "source": [
    "df = pd.read_csv(human_sequences, memory_map=True, header=None, index_col=False, delimiter=\"\\t\")\n",
    "\n",
    "# keep only validation intervals \n",
    "validation_intervals= df[df[3]==\"valid\"]\n",
    "validation_intervals = validation_intervals.head()\n",
    "\n",
    "\n",
    "# create list with interval\n",
    "interval_list = list()\n",
    "validation_intervals.apply(lambda row : interval_list.append(kipoiseq.Interval(row[0],row[1], row[2])), axis = 1)\n",
    "interval_list\n",
    "\n"
   ]
  },
  {
   "cell_type": "code",
   "execution_count": 52,
   "id": "d013bafb",
   "metadata": {},
   "outputs": [
    {
     "data": {
      "text/plain": [
       "(2213, 4)"
      ]
     },
     "execution_count": 52,
     "metadata": {},
     "output_type": "execute_result"
    }
   ],
   "source": [
    "df[df[3]==\"valid\"].shape\n"
   ]
  },
  {
   "cell_type": "code",
   "execution_count": null,
   "id": "fda2223d",
   "metadata": {},
   "outputs": [],
   "source": [
    "my_interval = interval_list[1]"
   ]
  },
  {
   "cell_type": "code",
   "execution_count": null,
   "id": "966c827b",
   "metadata": {},
   "outputs": [],
   "source": [
    "# resize only takes the sequence of that interval, center it and gets the reduced sequence length \n",
    "sequence_one_hot = one_hot_encode(fasta_extractor.extract(my_interval.resize(SEQUENCE_LENGTH)))\n",
    "# Predict on that sequence\n",
    "predictions = model.predict_on_batch(sequence_one_hot[np.newaxis])['human'][0]"
   ]
  },
  {
   "cell_type": "markdown",
   "id": "f917fd13",
   "metadata": {},
   "source": [
    "### compute score (how well predicted)"
   ]
  },
  {
   "cell_type": "code",
   "execution_count": null,
   "id": "f4a615e1",
   "metadata": {},
   "outputs": [],
   "source": [
    "# Get real values \n",
    "# Get the 896 long string\n",
    "human_dataset = get_dataset('human', 'valid').batch(1).repeat()"
   ]
  },
  {
   "cell_type": "code",
   "execution_count": 10,
   "id": "225b6978",
   "metadata": {},
   "outputs": [],
   "source": [
    "def _reduced_shape(shape, axis):\n",
    "    if axis is None:\n",
    "        return tf.TensorShape([])\n",
    "    return tf.TensorShape([d for i, d in enumerate(shape) if i not in axis])\n",
    "\n",
    "\n",
    "class CorrelationStats(tf.keras.metrics.Metric):\n",
    "    \"\"\"Contains shared code for PearsonR and R2.\"\"\"\n",
    "\n",
    "    def __init__(self, reduce_axis=None, name='pearsonr'):\n",
    "        \"\"\"Pearson correlation coefficient.\n",
    "\n",
    "        Args:\n",
    "          reduce_axis: Specifies over which axis to compute the correlation (say\n",
    "            (0, 1). If not specified, it will compute the correlation across the\n",
    "            whole tensor.\n",
    "          name: Metric name.\n",
    "        \"\"\"\n",
    "        super(CorrelationStats, self).__init__(name=name)\n",
    "        self._reduce_axis = reduce_axis\n",
    "        self._shape = None  # Specified in _initialize.\n",
    "\n",
    "    def _initialize(self, input_shape):\n",
    "        # Remaining dimensions after reducing over self._reduce_axis.\n",
    "        self._shape = _reduced_shape(input_shape, self._reduce_axis)\n",
    "\n",
    "        weight_kwargs = dict(shape=self._shape, initializer='zeros')\n",
    "        self._count = self.add_weight(name='count', **weight_kwargs)\n",
    "        self._product_sum = self.add_weight(name='product_sum', **weight_kwargs)\n",
    "        self._true_sum = self.add_weight(name='true_sum', **weight_kwargs)\n",
    "        self._true_squared_sum = self.add_weight(name='true_squared_sum',\n",
    "                                                 **weight_kwargs)\n",
    "        self._pred_sum = self.add_weight(name='pred_sum', **weight_kwargs)\n",
    "        self._pred_squared_sum = self.add_weight(name='pred_squared_sum',\n",
    "                                                 **weight_kwargs)\n",
    "\n",
    "    def update_state(self, y_true, y_pred, sample_weight=None):\n",
    "        \"\"\"Update the metric state.\n",
    "\n",
    "        Args:\n",
    "          y_true: Multi-dimensional float tensor [batch, ...] containing the ground\n",
    "            truth values.\n",
    "          y_pred: float tensor with the same shape as y_true containing predicted\n",
    "            values.\n",
    "          sample_weight: 1D tensor aligned with y_true batch dimension specifying\n",
    "            the weight of individual observations.\n",
    "        \"\"\"\n",
    "        if self._shape is None:\n",
    "          # Explicit initialization check.\n",
    "          self._initialize(y_true.shape)\n",
    "        y_true.shape.assert_is_compatible_with(y_pred.shape)\n",
    "        y_true = tf.cast(y_true, 'float32')\n",
    "        y_pred = tf.cast(y_pred, 'float32')\n",
    "\n",
    "        self._product_sum.assign_add(\n",
    "            tf.reduce_sum(y_true * y_pred, axis=self._reduce_axis))\n",
    "\n",
    "        self._true_sum.assign_add(\n",
    "            tf.reduce_sum(y_true, axis=self._reduce_axis))\n",
    "\n",
    "        self._true_squared_sum.assign_add(\n",
    "            tf.reduce_sum(tf.math.square(y_true), axis=self._reduce_axis))\n",
    "\n",
    "        self._pred_sum.assign_add(\n",
    "            tf.reduce_sum(y_pred, axis=self._reduce_axis))\n",
    "\n",
    "        self._pred_squared_sum.assign_add(\n",
    "            tf.reduce_sum(tf.math.square(y_pred), axis=self._reduce_axis))\n",
    "\n",
    "        self._count.assign_add(\n",
    "            tf.reduce_sum(tf.ones_like(y_true), axis=self._reduce_axis))\n",
    "\n",
    "    def result(self):\n",
    "        raise NotImplementedError('Must be implemented in subclasses.')\n",
    "\n",
    "    def reset_states(self):\n",
    "        if self._shape is not None:\n",
    "            tf.keras.backend.batch_set_value([(v, np.zeros(self._shape))\n",
    "                                        for v in self.variables])\n",
    "\n",
    "\n",
    "class PearsonR(CorrelationStats):\n",
    "    \"\"\"Pearson correlation coefficient.\n",
    "\n",
    "          Computed as:\n",
    "      ((x - x_avg) * (y - y_avg) / sqrt(Var[x] * Var[y])\n",
    "      \"\"\"\n",
    "\n",
    "    def __init__(self, reduce_axis=(0,), name='pearsonr'):\n",
    "        \"\"\"Pearson correlation coefficient.\n",
    "\n",
    "        Args:\n",
    "          reduce_axis: Specifies over which axis to compute the correlation.\n",
    "          name: Metric name.\n",
    "        \"\"\"\n",
    "        super(PearsonR, self).__init__(reduce_axis=reduce_axis,\n",
    "                                       name=name)\n",
    "\n",
    "    def result(self):\n",
    "        true_mean = self._true_sum / self._count\n",
    "        pred_mean = self._pred_sum / self._count\n",
    "\n",
    "        covariance = (self._product_sum\n",
    "                      - true_mean * self._pred_sum\n",
    "                      - pred_mean * self._true_sum\n",
    "                      + self._count * true_mean * pred_mean)\n",
    "\n",
    "        true_var = self._true_squared_sum - self._count * tf.math.square(true_mean)\n",
    "        pred_var = self._pred_squared_sum - self._count * tf.math.square(pred_mean)\n",
    "        tp_var = tf.math.sqrt(true_var) * tf.math.sqrt(pred_var)\n",
    "        correlation = covariance / tp_var\n",
    "\n",
    "        return correlation\n",
    "\n",
    "\n",
    "class R2(CorrelationStats):\n",
    "    \"\"\"R-squared  (fraction of explained variance).\"\"\"\n",
    "\n",
    "    def __init__(self, reduce_axis=None, name='R2'):\n",
    "        \"\"\"R-squared metric.\n",
    "\n",
    "        Args:\n",
    "          reduce_axis: Specifies over which axis to compute the correlation.\n",
    "          name: Metric name.\n",
    "        \"\"\"\n",
    "        super(R2, self).__init__(reduce_axis=reduce_axis,\n",
    "                                 name=name)\n",
    "\n",
    "    def result(self):\n",
    "        true_mean = self._true_sum / self._count\n",
    "        total = self._true_squared_sum - self._count * tf.math.square(true_mean)\n",
    "        residuals = (self._pred_squared_sum - 2 * self._product_sum\n",
    "                     + self._true_squared_sum)\n",
    "\n",
    "        return tf.ones_like(residuals) - residuals / total\n",
    "\n",
    "\n",
    "class MetricDict:\n",
    "    def __init__(self, metrics):\n",
    "        self._metrics = metrics\n",
    "\n",
    "    def update_state(self, y_true, y_pred):\n",
    "        for k, metric in self._metrics.items():\n",
    "            metric.update_state(y_true, y_pred)\n",
    "\n",
    "    def result(self):\n",
    "        return {k: metric.result() for k, metric in self._metrics.items()}"
   ]
  },
  {
   "cell_type": "code",
   "execution_count": 8,
   "id": "5ff53f59",
   "metadata": {},
   "outputs": [],
   "source": [
    "def evaluate_model(model, dataset, head, max_steps=None):\n",
    "    \n",
    "    metric = MetricDict({'PearsonR': PearsonR(reduce_axis=(0,1))})\n",
    "    print(\"Metric dictionary created\")\n",
    "    @tf.function\n",
    "    def predict(x):    \n",
    "        return model(x, is_training=False)[head]\n",
    "    \n",
    "    print(\"\")\n",
    "    for i, batch in tqdm(enumerate(dataset)):\n",
    "        if max_steps is not None and i > max_steps:\n",
    "            break\n",
    "        #metric.update_state(batch['target'], predict(batch['sequence']))\n",
    "        metric.update_state(batch['target'], batch['target'])\n",
    "\n",
    "    return metric.result()"
   ]
  },
  {
   "cell_type": "code",
   "execution_count": 28,
   "id": "5f61eb0a",
   "metadata": {},
   "outputs": [],
   "source": [
    "def evaluate_model_all_sequences(model, dataset, head, max_steps=None):\n",
    "    \n",
    "    metric = MetricDict({'PearsonR': PearsonR(reduce_axis=(0,1))})\n",
    "    print(\"Metric dictionary created\")\n",
    "    \n",
    "    @tf.function\n",
    "    def predict(x):    \n",
    "        return model(x, is_training=False)[head]\n",
    "    print(\"Predict funciton loaded\")\n",
    "    \n",
    "    for i, batch in tqdm(enumerate(dataset)):\n",
    "\n",
    "        if max_steps is not None and i > max_steps:\n",
    "            break\n",
    "        #metric.update_state(batch['target'], predict(batch['sequence']))\n",
    "        metric.update_state(batch['target'], batch['target'])\n",
    "        print(i)\n",
    "        print(batch)\n",
    "\n",
    "    return metric.result()"
   ]
  },
  {
   "cell_type": "code",
   "execution_count": 46,
   "id": "d2ddb14d",
   "metadata": {},
   "outputs": [
    {
     "name": "stdout",
     "output_type": "stream",
     "text": [
      "Metric dictionary created\n",
      "Predict funciton loaded\n"
     ]
    },
    {
     "name": "stderr",
     "output_type": "stream",
     "text": [
      "2it [00:07,  3.82s/it]"
     ]
    },
    {
     "name": "stdout",
     "output_type": "stream",
     "text": [
      "0\n",
      "{'sequence': <tf.Tensor: shape=(2, 131072, 4), dtype=float32, numpy=\n",
      "array([[[1., 0., 0., 0.],\n",
      "        [0., 0., 0., 1.],\n",
      "        [0., 0., 1., 0.],\n",
      "        ...,\n",
      "        [0., 0., 0., 1.],\n",
      "        [0., 0., 1., 0.],\n",
      "        [1., 0., 0., 0.]],\n",
      "\n",
      "       [[0., 1., 0., 0.],\n",
      "        [1., 0., 0., 0.],\n",
      "        [0., 1., 0., 0.],\n",
      "        ...,\n",
      "        [0., 1., 0., 0.],\n",
      "        [0., 1., 0., 0.],\n",
      "        [0., 0., 0., 1.]]], dtype=float32)>, 'target': <tf.Tensor: shape=(2, 896, 5313), dtype=float32, numpy=\n",
      "array([[[0.09924316, 0.0927124 , 0.01834106, ..., 0.        ,\n",
      "         0.        , 0.        ],\n",
      "        [0.11126709, 0.1685791 , 0.03396606, ..., 0.        ,\n",
      "         0.984375  , 0.        ],\n",
      "        [0.14318848, 0.23217773, 0.01850891, ..., 0.        ,\n",
      "         0.        , 0.        ],\n",
      "        ...,\n",
      "        [0.00662994, 0.01672363, 0.00756454, ..., 0.01852417,\n",
      "         0.11566162, 0.        ],\n",
      "        [0.00411224, 0.00155735, 0.        , ..., 0.        ,\n",
      "         0.        , 0.        ],\n",
      "        [0.06958008, 0.03845215, 0.04312134, ..., 0.        ,\n",
      "         0.        , 0.        ]],\n",
      "\n",
      "       [[0.12359619, 0.13122559, 0.04827881, ..., 0.08575439,\n",
      "         0.        , 0.23083496],\n",
      "        [0.1071167 , 0.11212158, 0.05841064, ..., 0.03527832,\n",
      "         0.09454346, 0.33129883],\n",
      "        [0.08789062, 0.0838623 , 0.01882935, ..., 0.        ,\n",
      "         0.        , 0.        ],\n",
      "        ...,\n",
      "        [0.12322998, 0.11651611, 0.065979  , ..., 0.        ,\n",
      "         0.        , 0.        ],\n",
      "        [0.14318848, 0.11682129, 0.14086914, ..., 0.        ,\n",
      "         0.        , 0.        ],\n",
      "        [0.14160156, 0.16235352, 0.21740723, ..., 0.        ,\n",
      "         0.        , 0.        ]]], dtype=float32)>}\n",
      "1\n",
      "{'sequence': <tf.Tensor: shape=(2, 131072, 4), dtype=float32, numpy=\n",
      "array([[[1., 0., 0., 0.],\n",
      "        [1., 0., 0., 0.],\n",
      "        [0., 1., 0., 0.],\n",
      "        ...,\n",
      "        [0., 1., 0., 0.],\n",
      "        [1., 0., 0., 0.],\n",
      "        [0., 0., 0., 1.]],\n",
      "\n",
      "       [[1., 0., 0., 0.],\n",
      "        [0., 0., 1., 0.],\n",
      "        [0., 0., 1., 0.],\n",
      "        ...,\n",
      "        [1., 0., 0., 0.],\n",
      "        [0., 0., 0., 1.],\n",
      "        [0., 0., 0., 1.]]], dtype=float32)>, 'target': <tf.Tensor: shape=(2, 896, 5313), dtype=float32, numpy=\n",
      "array([[[0.08099365, 0.03292847, 0.        , ..., 0.        ,\n",
      "         0.06298828, 0.        ],\n",
      "        [0.08825684, 0.05276489, 0.        , ..., 0.        ,\n",
      "         0.        , 0.        ],\n",
      "        [0.0614624 , 0.05117798, 0.        , ..., 0.        ,\n",
      "         0.        , 0.        ],\n",
      "        ...,\n",
      "        [0.0557251 , 0.02615356, 0.        , ..., 0.        ,\n",
      "         0.        , 0.        ],\n",
      "        [0.03369141, 0.04806519, 0.02220154, ..., 0.        ,\n",
      "         0.        , 0.        ],\n",
      "        [0.03884888, 0.06890869, 0.05953979, ..., 0.        ,\n",
      "         0.        , 0.        ]],\n",
      "\n",
      "       [[0.17102051, 0.06384277, 0.0463562 , ..., 0.        ,\n",
      "         0.        , 0.        ],\n",
      "        [0.3293457 , 0.06427002, 0.08435059, ..., 0.        ,\n",
      "         0.        , 0.        ],\n",
      "        [0.29785156, 0.03128052, 0.07855225, ..., 0.        ,\n",
      "         0.        , 0.05743408],\n",
      "        ...,\n",
      "        [0.03866577, 0.0383606 , 0.        , ..., 0.        ,\n",
      "         0.        , 0.        ],\n",
      "        [0.03744507, 0.02104187, 0.        , ..., 0.        ,\n",
      "         0.        , 0.        ],\n",
      "        [0.06134033, 0.02706909, 0.        , ..., 0.        ,\n",
      "         0.        , 0.        ]]], dtype=float32)>}\n"
     ]
    },
    {
     "name": "stderr",
     "output_type": "stream",
     "text": [
      "\n"
     ]
    },
    {
     "name": "stdout",
     "output_type": "stream",
     "text": [
      "\n",
      "{'PearsonR': 1.0}\n"
     ]
    }
   ],
   "source": [
    "# Evaluate model on first ten \n",
    "# Right now it evaluates the whole model and \n",
    "metrics_human = evaluate_model_all_sequences(model,\n",
    "                               dataset=get_dataset('human', 'valid').batch(2).prefetch(2),\n",
    "                               head='human',\n",
    "                               max_steps=1)\n",
    "print('')\n",
    "print({k: v.numpy().mean() for k, v in metrics_human.items()})"
   ]
  },
  {
   "cell_type": "markdown",
   "id": "8f130d99",
   "metadata": {},
   "source": [
    "#### Distributions of pearson correlation coefficients per assay "
   ]
  },
  {
   "cell_type": "code",
   "execution_count": 192,
   "id": "58b84224",
   "metadata": {},
   "outputs": [],
   "source": [
    "# assuming the values are in order of assay (TODO check) \n",
    "assay_list = list(suppl_df[\"assay_type\"])\n",
    "pearson_per_assay = list(metrics_human[\"PearsonR\"].numpy())\n",
    "data_tuples = list(zip(assay_list,pearson_per_assay))\n",
    "df_pearson_assay = pd.DataFrame(data_tuples, columns=['assay','pearson'])\n",
    "df = df.astype({\"assay\": str, \"pearson\": float})\n",
    "df_pearson_assay[\"pearson\"]\n",
    "df = df_pearson_assay"
   ]
  },
  {
   "cell_type": "code",
   "execution_count": 204,
   "id": "7ed43edd",
   "metadata": {},
   "outputs": [
    {
     "name": "stderr",
     "output_type": "stream",
     "text": [
      "/home/luisasantus/.local/lib/python3.8/site-packages/seaborn/axisgrid.py:88: UserWarning: Tight layout not applied. tight_layout cannot make axes height small enough to accommodate all axes decorations.\n",
      "  self._figure.tight_layout(*args, **kwargs)\n",
      "/home/luisasantus/.local/lib/python3.8/site-packages/seaborn/axisgrid.py:88: UserWarning: Tight layout not applied. tight_layout cannot make axes height small enough to accommodate all axes decorations.\n",
      "  self._figure.tight_layout(*args, **kwargs)\n"
     ]
    },
    {
     "data": {
      "text/plain": [
       "<seaborn.axisgrid.FacetGrid at 0x7fb458307880>"
      ]
     },
     "execution_count": 204,
     "metadata": {},
     "output_type": "execute_result"
    },
    {
     "data": {
      "image/png": "[encoded data removed]",
      "text/plain": [
       "<Figure size 540x144 with 4 Axes>"
      ]
     },
     "metadata": {
      "image/png": {
       "height": 144,
       "width": 520
      }
     },
     "output_type": "display_data"
    }
   ],
   "source": [
    "sns.set_theme(style=\"white\", rc={\"axes.facecolor\": (0, 0, 0, 0)})\n",
    "# Initialize the FacetGrid object\n",
    "g = sns.FacetGrid(df, row=\"assay\", hue=\"assay\", aspect=15,  height = .5, palette=\"mako\")\n",
    "# Draw the densities in a few steps\n",
    "g.map(sns.kdeplot, \"pearson\",\n",
    "      bw_adjust=.5, clip_on=False,\n",
    "      fill=True, alpha=1, linewidth=1.5)\n",
    "g.map(sns.kdeplot, \"pearson\", clip_on=False, color=\"w\", lw=2, bw_adjust=.5)\n",
    "g.refline(y=0, linewidth=2, linestyle=\"-\", color=None, clip_on=False)\n",
    "\n",
    "g.map(label, \"pearson\")\n",
    "g.figure.subplots_adjust(hspace=0)\n",
    "g.set_titles(\"\")\n",
    "g.set(yticks=[], ylabel=\"\")\n",
    "g.despine(bottom=True, left=True)\n",
    "g.set(xlim = (0,1))"
   ]
  },
  {
   "cell_type": "code",
   "execution_count": null,
   "id": "b8d87c96",
   "metadata": {},
   "outputs": [],
   "source": []
  },
  {
   "cell_type": "code",
   "execution_count": null,
   "id": "27dfb0b1",
   "metadata": {},
   "outputs": [],
   "source": []
  },
  {
   "cell_type": "code",
   "execution_count": null,
   "id": "265fa677",
   "metadata": {},
   "outputs": [],
   "source": []
  },
  {
   "cell_type": "code",
   "execution_count": null,
   "id": "a7e8b116",
   "metadata": {},
   "outputs": [],
   "source": []
  },
  {
   "cell_type": "code",
   "execution_count": null,
   "id": "7bd4e283",
   "metadata": {},
   "outputs": [],
   "source": []
  },
  {
   "cell_type": "code",
   "execution_count": null,
   "id": "2745fa9d",
   "metadata": {},
   "outputs": [],
   "source": []
  },
  {
   "cell_type": "code",
   "execution_count": null,
   "id": "ec6b4258",
   "metadata": {},
   "outputs": [],
   "source": []
  },
  {
   "cell_type": "code",
   "execution_count": null,
   "id": "1a2e9ba8",
   "metadata": {},
   "outputs": [],
   "source": []
  }
 ],
 "metadata": {
  "celltoolbar": "Raw Cell Format",
  "kernelspec": {
   "display_name": "Python 3 (ipykernel)",
   "language": "python",
   "name": "python3"
  },
  "language_info": {
   "codemirror_mode": {
    "name": "ipython",
    "version": 3
   },
   "file_extension": ".py",
   "mimetype": "text/x-python",
   "name": "python",
   "nbconvert_exporter": "python",
   "pygments_lexer": "ipython3",
   "version": "3.8.10"
  }
 },
 "nbformat": 4,
 "nbformat_minor": 5
}
