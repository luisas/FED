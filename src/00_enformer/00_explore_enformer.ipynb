{
 "cells": [
  {
   "cell_type": "markdown",
   "id": "3f35368f",
   "metadata": {},
   "source": [
    "# Check enformer tracks "
   ]
  },
  {
   "cell_type": "code",
   "execution_count": 1,
   "id": "84df0d9d",
   "metadata": {},
   "outputs": [],
   "source": [
    "import pandas as pd\n",
    "import os\n",
    "import openpyxl\n",
    "import numpy as np\n",
    "import matplotlib.pyplot as plt\n",
    "import seaborn as sns\n",
    "import re"
   ]
  },
  {
   "cell_type": "markdown",
   "id": "b865453b",
   "metadata": {},
   "source": [
    "## Load data"
   ]
  },
  {
   "cell_type": "code",
   "execution_count": 2,
   "id": "d593dfe0",
   "metadata": {},
   "outputs": [
    {
     "name": "stdout",
     "output_type": "stream",
     "text": [
      "['Supplementary Table 1', 'Supplementary Table 2', 'Supplementary Table 3']\n"
     ]
    }
   ],
   "source": [
    "# Load enformer tracks \n",
    "datadir = \"../../../../data/FED\"\n",
    "suppl = pd.ExcelFile(os.path.join(datadir, \"enformer_suppl.xlsx\"))\n",
    "print(suppl.sheet_names)\n",
    "suppl_human = suppl.parse(suppl.sheet_names[1])\n",
    "suppl_mouse = suppl.parse(suppl.sheet_names[2])\n",
    "suppl_human[\"organism\"] = \"human\"\n",
    "suppl_mouse[\"organism\"] = \"mouse\"\n",
    "frames = [suppl_human, suppl_mouse]\n",
    "suppl_df = pd.concat(frames)"
   ]
  },
  {
   "cell_type": "code",
   "execution_count": 3,
   "id": "cd072d8f",
   "metadata": {},
   "outputs": [
    {
     "data": {
      "text/html": [
       "<div>\n",
       "<style scoped>\n",
       "    .dataframe tbody tr th:only-of-type {\n",
       "        vertical-align: middle;\n",
       "    }\n",
       "\n",
       "    .dataframe tbody tr th {\n",
       "        vertical-align: top;\n",
       "    }\n",
       "\n",
       "    .dataframe thead th {\n",
       "        text-align: right;\n",
       "    }\n",
       "</style>\n",
       "<table border=\"1\" class=\"dataframe\">\n",
       "  <thead>\n",
       "    <tr style=\"text-align: right;\">\n",
       "      <th></th>\n",
       "      <th>assay_type</th>\n",
       "      <th>genome</th>\n",
       "    </tr>\n",
       "  </thead>\n",
       "  <tbody>\n",
       "    <tr>\n",
       "      <th>0</th>\n",
       "      <td>DNASE</td>\n",
       "      <td>0.0</td>\n",
       "    </tr>\n",
       "    <tr>\n",
       "      <th>1</th>\n",
       "      <td>DNASE</td>\n",
       "      <td>0.0</td>\n",
       "    </tr>\n",
       "    <tr>\n",
       "      <th>2</th>\n",
       "      <td>DNASE</td>\n",
       "      <td>0.0</td>\n",
       "    </tr>\n",
       "    <tr>\n",
       "      <th>3</th>\n",
       "      <td>DNASE</td>\n",
       "      <td>0.0</td>\n",
       "    </tr>\n",
       "    <tr>\n",
       "      <th>4</th>\n",
       "      <td>DNASE</td>\n",
       "      <td>0.0</td>\n",
       "    </tr>\n",
       "    <tr>\n",
       "      <th>...</th>\n",
       "      <td>...</td>\n",
       "      <td>...</td>\n",
       "    </tr>\n",
       "    <tr>\n",
       "      <th>1638</th>\n",
       "      <td>CAGE</td>\n",
       "      <td>1.0</td>\n",
       "    </tr>\n",
       "    <tr>\n",
       "      <th>1639</th>\n",
       "      <td>CAGE</td>\n",
       "      <td>1.0</td>\n",
       "    </tr>\n",
       "    <tr>\n",
       "      <th>1640</th>\n",
       "      <td>CAGE</td>\n",
       "      <td>1.0</td>\n",
       "    </tr>\n",
       "    <tr>\n",
       "      <th>1641</th>\n",
       "      <td>CAGE</td>\n",
       "      <td>1.0</td>\n",
       "    </tr>\n",
       "    <tr>\n",
       "      <th>1642</th>\n",
       "      <td>CAGE</td>\n",
       "      <td>1.0</td>\n",
       "    </tr>\n",
       "  </tbody>\n",
       "</table>\n",
       "<p>6956 rows × 2 columns</p>\n",
       "</div>"
      ],
      "text/plain": [
       "     assay_type  genome\n",
       "0         DNASE     0.0\n",
       "1         DNASE     0.0\n",
       "2         DNASE     0.0\n",
       "3         DNASE     0.0\n",
       "4         DNASE     0.0\n",
       "...         ...     ...\n",
       "1638       CAGE     1.0\n",
       "1639       CAGE     1.0\n",
       "1640       CAGE     1.0\n",
       "1641       CAGE     1.0\n",
       "1642       CAGE     1.0\n",
       "\n",
       "[6956 rows x 2 columns]"
      ]
     },
     "execution_count": 3,
     "metadata": {},
     "output_type": "execute_result"
    }
   ],
   "source": [
    "type(suppl_df)\n",
    "suppl_df[[\"assay_type\", \"genome\"]]"
   ]
  },
  {
   "cell_type": "markdown",
   "id": "3fd3a3da",
   "metadata": {},
   "source": [
    "## Check training tracks"
   ]
  },
  {
   "cell_type": "code",
   "execution_count": 10,
   "id": "7634c35f",
   "metadata": {},
   "outputs": [
    {
     "data": {
      "text/plain": [
       "<seaborn.axisgrid.FacetGrid at 0x7fb5a2c04e50>"
      ]
     },
     "execution_count": 10,
     "metadata": {},
     "output_type": "execute_result"
    },
    {
     "data": {
      "image/png": "[encoded data removed]",
      "text/plain": [
       "<Figure size 476.65x360 with 1 Axes>"
      ]
     },
     "metadata": {},
     "output_type": "display_data"
    }
   ],
   "source": [
    "#suppl_df.groupby(['organism']).size()\n",
    "sns.set_theme(style=\"white\", context=\"talk\")\n",
    "ax = sns.catplot(x=\"organism\", hue=\"assay_type\", kind=\"count\", data=suppl_df, palette=\"mako\", legend_out=True)\n",
    "ax.set(xlabel=None)\n",
    "#plt.legend( loc = 2, bbox_to_anchor = (0.5,1))"
   ]
  },
  {
   "cell_type": "code",
   "execution_count": 11,
   "id": "3800182d",
   "metadata": {},
   "outputs": [],
   "source": [
    "suppl_df[\"description\"]\n",
    "\n",
    "def extract_tissue(text):\n",
    "    m = re.search(':(.+?),', text)\n",
    "    if m:\n",
    "        return(m.group(1))\n",
    "    else: \n",
    "        return(text)\n",
    "suppl_df[\"biosource\"]=suppl_df[\"description\"].apply(extract_tissue)\n"
   ]
  },
  {
   "cell_type": "markdown",
   "id": "5204a23c",
   "metadata": {},
   "source": [
    "### For the moment only check overlapping biosources for CAGE experiments\n",
    "the other ones need to be parsed more accurately "
   ]
  },
  {
   "cell_type": "code",
   "execution_count": 12,
   "id": "a16f903b",
   "metadata": {},
   "outputs": [
    {
     "data": {
      "text/html": [
       "<div>\n",
       "<style scoped>\n",
       "    .dataframe tbody tr th:only-of-type {\n",
       "        vertical-align: middle;\n",
       "    }\n",
       "\n",
       "    .dataframe tbody tr th {\n",
       "        vertical-align: top;\n",
       "    }\n",
       "\n",
       "    .dataframe thead th {\n",
       "        text-align: right;\n",
       "    }\n",
       "</style>\n",
       "<table border=\"1\" class=\"dataframe\">\n",
       "  <thead>\n",
       "    <tr style=\"text-align: right;\">\n",
       "      <th></th>\n",
       "      <th>index</th>\n",
       "      <th>genome</th>\n",
       "      <th>identifier</th>\n",
       "      <th>file</th>\n",
       "      <th>clip</th>\n",
       "      <th>scale</th>\n",
       "      <th>sum_stat</th>\n",
       "      <th>description</th>\n",
       "      <th>assay_type</th>\n",
       "      <th>target</th>\n",
       "      <th>...</th>\n",
       "      <th>CAGE: GP1BB,HBB,HBG1,PKLR</th>\n",
       "      <th>CAGE: F9,LDLR,SORT1</th>\n",
       "      <th>DNASE: IRF4</th>\n",
       "      <th>DNASE: IRF6</th>\n",
       "      <th>DNASE: ZFAND3</th>\n",
       "      <th>DNASE: HNF4A,MSMB,TERT-HEK293T,MYCrs6983267</th>\n",
       "      <th>DNASE: GP1BB,HBB,HBG1,PKLR</th>\n",
       "      <th>DNASE: F9,LDLR,SORT1</th>\n",
       "      <th>organism</th>\n",
       "      <th>biosource</th>\n",
       "    </tr>\n",
       "  </thead>\n",
       "  <tbody>\n",
       "    <tr>\n",
       "      <th>4675</th>\n",
       "      <td>4675.0</td>\n",
       "      <td>0.0</td>\n",
       "      <td>CNhs10608</td>\n",
       "      <td>/home/drk/tillage/datasets/human/cage/fantom/C...</td>\n",
       "      <td>384.0</td>\n",
       "      <td>1.0</td>\n",
       "      <td>sum</td>\n",
       "      <td>CAGE:Clontech Human Universal Reference Total ...</td>\n",
       "      <td>CAGE</td>\n",
       "      <td>CAGE/Clontech Human Universal Reference Total ...</td>\n",
       "      <td>...</td>\n",
       "      <td>False</td>\n",
       "      <td>False</td>\n",
       "      <td>False</td>\n",
       "      <td>False</td>\n",
       "      <td>False</td>\n",
       "      <td>False</td>\n",
       "      <td>False</td>\n",
       "      <td>False</td>\n",
       "      <td>human</td>\n",
       "      <td>Clontech Human Universal Reference Total RNA</td>\n",
       "    </tr>\n",
       "    <tr>\n",
       "      <th>4676</th>\n",
       "      <td>4676.0</td>\n",
       "      <td>0.0</td>\n",
       "      <td>CNhs10610</td>\n",
       "      <td>/home/drk/tillage/datasets/human/cage/fantom/C...</td>\n",
       "      <td>384.0</td>\n",
       "      <td>1.0</td>\n",
       "      <td>sum</td>\n",
       "      <td>CAGE:SABiosciences XpressRef Human Universal T...</td>\n",
       "      <td>CAGE</td>\n",
       "      <td>CAGE/SABiosciences XpressRef Human Universal T...</td>\n",
       "      <td>...</td>\n",
       "      <td>False</td>\n",
       "      <td>False</td>\n",
       "      <td>False</td>\n",
       "      <td>False</td>\n",
       "      <td>False</td>\n",
       "      <td>False</td>\n",
       "      <td>False</td>\n",
       "      <td>False</td>\n",
       "      <td>human</td>\n",
       "      <td>SABiosciences XpressRef Human Universal Total RNA</td>\n",
       "    </tr>\n",
       "  </tbody>\n",
       "</table>\n",
       "<p>2 rows × 27 columns</p>\n",
       "</div>"
      ],
      "text/plain": [
       "       index  genome identifier  \\\n",
       "4675  4675.0     0.0  CNhs10608   \n",
       "4676  4676.0     0.0  CNhs10610   \n",
       "\n",
       "                                                   file   clip  scale  \\\n",
       "4675  /home/drk/tillage/datasets/human/cage/fantom/C...  384.0    1.0   \n",
       "4676  /home/drk/tillage/datasets/human/cage/fantom/C...  384.0    1.0   \n",
       "\n",
       "     sum_stat                                        description assay_type  \\\n",
       "4675      sum  CAGE:Clontech Human Universal Reference Total ...       CAGE   \n",
       "4676      sum  CAGE:SABiosciences XpressRef Human Universal T...       CAGE   \n",
       "\n",
       "                                                 target  ...  \\\n",
       "4675  CAGE/Clontech Human Universal Reference Total ...  ...   \n",
       "4676  CAGE/SABiosciences XpressRef Human Universal T...  ...   \n",
       "\n",
       "     CAGE: GP1BB,HBB,HBG1,PKLR CAGE: F9,LDLR,SORT1 DNASE: IRF4 DNASE: IRF6  \\\n",
       "4675                     False               False       False       False   \n",
       "4676                     False               False       False       False   \n",
       "\n",
       "     DNASE: ZFAND3 DNASE: HNF4A,MSMB,TERT-HEK293T,MYCrs6983267  \\\n",
       "4675         False                                       False   \n",
       "4676         False                                       False   \n",
       "\n",
       "     DNASE: GP1BB,HBB,HBG1,PKLR DNASE: F9,LDLR,SORT1 organism  \\\n",
       "4675                      False                False    human   \n",
       "4676                      False                False    human   \n",
       "\n",
       "                                              biosource  \n",
       "4675       Clontech Human Universal Reference Total RNA  \n",
       "4676  SABiosciences XpressRef Human Universal Total RNA  \n",
       "\n",
       "[2 rows x 27 columns]"
      ]
     },
     "execution_count": 12,
     "metadata": {},
     "output_type": "execute_result"
    }
   ],
   "source": [
    "suppl_df_cage = suppl_df.loc[suppl_df['assay_type'] == \"CAGE\"]\n",
    "suppl_df_cage_human = suppl_df_cage.loc[suppl_df_cage['organism'] == \"human\"]\n",
    "suppl_df_cage_mouse = suppl_df_cage.loc[suppl_df_cage['organism'] == \"mouse\"]\n",
    "suppl_df_cage.head(2)"
   ]
  },
  {
   "cell_type": "code",
   "execution_count": 13,
   "id": "be019774",
   "metadata": {},
   "outputs": [
    {
     "data": {
      "text/html": [
       "<div>\n",
       "<style scoped>\n",
       "    .dataframe tbody tr th:only-of-type {\n",
       "        vertical-align: middle;\n",
       "    }\n",
       "\n",
       "    .dataframe tbody tr th {\n",
       "        vertical-align: top;\n",
       "    }\n",
       "\n",
       "    .dataframe thead th {\n",
       "        text-align: right;\n",
       "    }\n",
       "</style>\n",
       "<table border=\"1\" class=\"dataframe\">\n",
       "  <thead>\n",
       "    <tr style=\"text-align: right;\">\n",
       "      <th></th>\n",
       "      <th>biosource</th>\n",
       "      <th>organism</th>\n",
       "      <th>assay_type</th>\n",
       "      <th>counts</th>\n",
       "    </tr>\n",
       "  </thead>\n",
       "  <tbody>\n",
       "    <tr>\n",
       "      <th>0</th>\n",
       "      <td>cerebellum</td>\n",
       "      <td>human</td>\n",
       "      <td>CAGE</td>\n",
       "      <td>3</td>\n",
       "    </tr>\n",
       "    <tr>\n",
       "      <th>1</th>\n",
       "      <td>cerebellum</td>\n",
       "      <td>mouse</td>\n",
       "      <td>CAGE</td>\n",
       "      <td>38</td>\n",
       "    </tr>\n",
       "    <tr>\n",
       "      <th>2</th>\n",
       "      <td>heart</td>\n",
       "      <td>human</td>\n",
       "      <td>CAGE</td>\n",
       "      <td>4</td>\n",
       "    </tr>\n",
       "    <tr>\n",
       "      <th>3</th>\n",
       "      <td>heart</td>\n",
       "      <td>mouse</td>\n",
       "      <td>CAGE</td>\n",
       "      <td>15</td>\n",
       "    </tr>\n",
       "    <tr>\n",
       "      <th>4</th>\n",
       "      <td>lung</td>\n",
       "      <td>human</td>\n",
       "      <td>CAGE</td>\n",
       "      <td>3</td>\n",
       "    </tr>\n",
       "    <tr>\n",
       "      <th>5</th>\n",
       "      <td>lung</td>\n",
       "      <td>mouse</td>\n",
       "      <td>CAGE</td>\n",
       "      <td>14</td>\n",
       "    </tr>\n",
       "  </tbody>\n",
       "</table>\n",
       "</div>"
      ],
      "text/plain": [
       "    biosource organism assay_type  counts\n",
       "0  cerebellum    human       CAGE       3\n",
       "1  cerebellum    mouse       CAGE      38\n",
       "2       heart    human       CAGE       4\n",
       "3       heart    mouse       CAGE      15\n",
       "4        lung    human       CAGE       3\n",
       "5        lung    mouse       CAGE      14"
      ]
     },
     "execution_count": 13,
     "metadata": {},
     "output_type": "execute_result"
    }
   ],
   "source": [
    "top_5_biosource_human = list(suppl_df_cage_human[\"biosource\"].value_counts()[:20].index.values)\n",
    "top_5_biosource_mouse = list(suppl_df_cage_mouse[\"biosource\"].value_counts()[:20].index.values)\n",
    "top_biosource_intersection = set(top_5_biosource_mouse).intersection(top_5_biosource_human)\n",
    "top_biosource_intersection\n",
    "\n",
    "top5_biosource_df = suppl_df_cage.loc[suppl_df_cage['biosource'].isin(top_biosource_intersection)]\n",
    "df_top5 = top5_biosource_df.groupby([\"biosource\", \"organism\", \"assay_type\"]).size().reset_index(name='counts')\n",
    "df_top5"
   ]
  },
  {
   "cell_type": "code",
   "execution_count": 14,
   "id": "c8e9fb2c",
   "metadata": {},
   "outputs": [
    {
     "data": {
      "text/plain": [
       "Text(0.5, 0.98, 'CAGE top biosources')"
      ]
     },
     "execution_count": 14,
     "metadata": {},
     "output_type": "execute_result"
    },
    {
     "data": {
      "image/png": "[encoded data removed]",
      "text/plain": [
       "<Figure size 511.4x360 with 1 Axes>"
      ]
     },
     "metadata": {},
     "output_type": "display_data"
    }
   ],
   "source": [
    "ax = sns.catplot(x=\"organism\", hue=\"biosource\", y = \"counts\", kind=\"bar\", data=df_top5,\n",
    "                 palette=\"tab20\", legend_out=True)\n",
    "ax.set(xlabel=None)\n",
    "ax.fig.suptitle(\"CAGE top biosources\")"
   ]
  }
 ],
 "metadata": {
  "kernelspec": {
   "display_name": "Python 3 (ipykernel)",
   "language": "python",
   "name": "python3"
  },
  "language_info": {
   "codemirror_mode": {
    "name": "ipython",
    "version": 3
   },
   "file_extension": ".py",
   "mimetype": "text/x-python",
   "name": "python",
   "nbconvert_exporter": "python",
   "pygments_lexer": "ipython3",
   "version": "3.8.10"
  }
 },
 "nbformat": 4,
 "nbformat_minor": 5
}
