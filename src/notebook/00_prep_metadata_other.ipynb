{
 "cells": [
  {
   "cell_type": "markdown",
   "id": "06cd0348",
   "metadata": {},
   "source": [
    "# Parse json "
   ]
  },
  {
   "cell_type": "code",
   "execution_count": 1,
   "id": "405dacb9",
   "metadata": {},
   "outputs": [],
   "source": [
    "import requests, json\n",
    "import pandas as pd\n",
    "from pandas import json_normalize\n",
    "from functools import reduce"
   ]
  },
  {
   "cell_type": "code",
   "execution_count": 2,
   "id": "5fdef8bf",
   "metadata": {},
   "outputs": [],
   "source": [
    "# https://www.encodeproject.org/matrix/?type=Experiment\n",
    "metadata_file = \"/home/luisasantus/Desktop/crg_cluster/data/FED/metadata/experiment_report_2023_3_3_15h_56m.tsv\"\n",
    "outfile = \"/home/luisasantus/Desktop/crg_cluster/data/FED/metadata/atac_metadata.tsv\""
   ]
  },
  {
   "cell_type": "code",
   "execution_count": 3,
   "id": "6f8184ac",
   "metadata": {},
   "outputs": [
    {
     "name": "stderr",
     "output_type": "stream",
     "text": [
      "/tmp/ipykernel_11787/1348268073.py:2: DtypeWarning: Columns (35) have mixed types. Specify dtype option on import or set low_memory=False.\n",
      "  metadata = pd.read_csv(metadata_file, sep = \"\\t\", skiprows=1)\n"
     ]
    }
   ],
   "source": [
    "# Load Metadata \n",
    "metadata = pd.read_csv(metadata_file, sep = \"\\t\", skiprows=1)\n",
    "# Filter values\n",
    "assay_title = \"ATAC-seq\"\n",
    "organism = \"Homo sapiens\"\n",
    "biosample_classification = \"tissue\"\n",
    "perturbation = False\n",
    "\n",
    "file_formats = [\"bed\", \"bigWig\", \"bigBed\"]\n",
    "output_types = [\"fold change over control\", \"IDR thresholded peaks\"]\n",
    "\n",
    "# Extract columns of interest \n",
    "prefix_link = \"https://www.encodeproject.org\"\n",
    "file_columns = [\"accession\", \"file_format\",\"file_type\",\"file_format_type\",\"output_type\", \"assay_title\",\"assembly\", \"href\" ]\n",
    "experiment_columns = [\"Accession\", \"Biosample term name\", \"Biosample accession\", \"Organism\", \"Biosample ontology\", \"Perturbed\", \"Biological replicate\", \"Technical replicate\"]\n",
    "\n",
    "\n",
    "# Filter metadata\n",
    "metadata_filtered = metadata[metadata['Assay title'] == assay_title]\n",
    "metadata_filtered = metadata_filtered[metadata_filtered['Organism'] == organism]\n",
    "metadata_filtered = metadata_filtered[metadata_filtered[\"Biosample ontology\"].str.contains(biosample_classification)]\n",
    "metadata_filtered = metadata_filtered[metadata_filtered[\"Perturbed\"] == perturbation]\n",
    "metadata_filtered = metadata_filtered.reset_index().drop(\"index\", axis = 1)\n"
   ]
  },
  {
   "cell_type": "code",
   "execution_count": 4,
   "id": "b737c229",
   "metadata": {},
   "outputs": [],
   "source": [
    "# Extract file ids for each experiment \n",
    "def get_file_ids(row): \n",
    "    def get_file_name(name):\n",
    "        return name.split(\"/\")[2]\n",
    "\n",
    "    # For each line \n",
    "    files = list(row[\"Files\"].split(\",\"))\n",
    "    file_ids = list(map(get_file_name, files))\n",
    "    return(file_ids)\n",
    "\n",
    "def get_biosample(biosample_id):\n",
    "    # Force return from the server in JSON format\n",
    "    headers = {'accept': 'application/json'}\n",
    "    # This URL locates the ENCODE biosample with accession number ENCBS000AAA\n",
    "    url = 'https://www.encodeproject.org/biosample/'+biosample_id+'/?frame=object'\n",
    "    # GET the object\n",
    "    response = requests.get(url, headers=headers)\n",
    "    # Extract the JSON response as a Python dictionary\n",
    "    biosample = response.json()\n",
    "    # Print the Python object\n",
    "    biosample = json_normalize(json.loads(json.dumps(biosample)))\n",
    "    return(biosample)\n",
    "\n",
    "def get_files_df(row):\n",
    "    # Get files \n",
    "    file_ids = get_file_ids(row)\n",
    "    biosamples = pd.DataFrame()\n",
    "    for bio_id in file_ids: \n",
    "        biosamples = pd.concat([biosamples,get_biosample(bio_id)]) \n",
    "    filtered_files = biosamples[biosamples.file_format.isin(file_formats)]\n",
    "    return(filtered_files)\n",
    "\n",
    "def filter_files(row, prefix_link, file_columns):\n",
    "    # Filter files \n",
    "    files = get_files_df(row)\n",
    "    files_filtered = files[file_columns]\n",
    "    files_filtered[\"link\"] = prefix_link+files_filtered.href\n",
    "    files_filtered = files_filtered.drop(\"href\", axis = 1)\n",
    "    files_filtered = files_filtered.rename(columns = {\"accession\": \"File accession\"})\n",
    "    return(files_filtered)\n",
    "\n",
    "def extract_summary(row): \n",
    "    files = filter_files(row, prefix_link, file_columns)\n",
    "    experiment = pd.DataFrame(row[experiment_columns]).T\n",
    "    files['tmp'] = 1\n",
    "    experiment['tmp'] = 1\n",
    "    summary = pd.merge(files, experiment, on=['tmp'])\n",
    "    summary = summary.drop('tmp', axis=1)\n",
    "    return(summary)"
   ]
  },
  {
   "cell_type": "code",
   "execution_count": 5,
   "id": "18dfcbab",
   "metadata": {},
   "outputs": [],
   "source": [
    "summary = pd.concat(list(metadata_filtered.apply(lambda row : extract_summary(row), axis = 1)))"
   ]
  },
  {
   "cell_type": "code",
   "execution_count": 6,
   "id": "ff64de96",
   "metadata": {},
   "outputs": [],
   "source": [
    "# finish prepping experiment \n",
    "summary[\"Biosample type\"] = summary[\"Biosample ontology\"].str.split(\"/\", expand = True)[2].str.split(\"_\", expand = True)[0]\n",
    "summary = summary.rename(columns = {\"Accession\": \"Experiment accession\"})\n",
    "\n",
    "# Filter output types \n",
    "summary_filtered = summary[summary.output_type.isin(output_types)]"
   ]
  },
  {
   "cell_type": "markdown",
   "id": "4f299e31",
   "metadata": {},
   "source": [
    "# SAVE"
   ]
  },
  {
   "cell_type": "code",
   "execution_count": 7,
   "id": "b9ef79f4",
   "metadata": {},
   "outputs": [],
   "source": [
    "# Save\n",
    "summary_filtered.to_csv(outfile, index=False)  "
   ]
  }
 ],
 "metadata": {
  "kernelspec": {
   "display_name": "Python 3 (ipykernel)",
   "language": "python",
   "name": "python3"
  },
  "language_info": {
   "codemirror_mode": {
    "name": "ipython",
    "version": 3
   },
   "file_extension": ".py",
   "mimetype": "text/x-python",
   "name": "python",
   "nbconvert_exporter": "python",
   "pygments_lexer": "ipython3",
   "version": "3.9.12"
  }
 },
 "nbformat": 4,
 "nbformat_minor": 5
}
