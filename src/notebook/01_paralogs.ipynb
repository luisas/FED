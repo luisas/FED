{
 "cells": [
  {
   "cell_type": "code",
   "execution_count": 147,
   "id": "170adc67",
   "metadata": {},
   "outputs": [],
   "source": [
    "import pandas as pd\n",
    "import seaborn as sns\n",
    "import pyBigWig\n",
    "import pyranges as pr\n",
    "import genomicranges as gr\n",
    "from matplotlib import pyplot as plt\n",
    "\n",
    "sns.set_context(\"talk\")\n",
    "\n",
    "chr_categories = [str(i) for i in list(range(1,23))]\n",
    "chr_categories.extend([\"X\", \"Y\"])\n",
    "chr_categories = [\"chr\"+i for i in chr_categories]"
   ]
  },
  {
   "cell_type": "code",
   "execution_count": 82,
   "id": "240d183a",
   "metadata": {},
   "outputs": [],
   "source": [
    "def merge_intervals(intervals):\n",
    "    # Sort the intervals by their starting point\n",
    "    sorted_intervals = sorted(intervals, key=lambda x: x[0])\n",
    "\n",
    "    # Initialize the merged interval list with the first interval\n",
    "    merged_intervals = [sorted_intervals[0]]\n",
    "\n",
    "    # Iterate over the sorted intervals, merging overlapping intervals\n",
    "    for interval in sorted_intervals[1:]:\n",
    "        last_merged = merged_intervals[-1]\n",
    "\n",
    "        # If the current interval overlaps with the last merged interval, merge them\n",
    "        if interval[0] <= last_merged[1]:\n",
    "            merged_intervals[-1] = (last_merged[0], max(last_merged[1], interval[1]))\n",
    "        else:\n",
    "            merged_intervals.append(interval)\n",
    "\n",
    "    # Calculate the total length of the merged intervals\n",
    "    total_length = sum(end - start for start, end in merged_intervals)\n",
    "\n",
    "    return merged_intervals, total_length"
   ]
  },
  {
   "cell_type": "markdown",
   "id": "b085518c",
   "metadata": {},
   "source": [
    "## Check how much of the region is covered with binary"
   ]
  },
  {
   "cell_type": "code",
   "execution_count": 4,
   "id": "4d1d9861",
   "metadata": {},
   "outputs": [],
   "source": [
    "bb = \"/home/luisasantus/Desktop/crg_cluster/data/FED/out/Liver_example/ENCFF106WBX.bigBed\"\n",
    "bbb = pyBigWig.open(bb)"
   ]
  },
  {
   "cell_type": "code",
   "execution_count": 100,
   "id": "5f16aa2a",
   "metadata": {},
   "outputs": [],
   "source": [
    "### Collect stats \n",
    "n_peaks = pd.DataFrame()\n",
    "chromosome = \"chr1\"\n",
    "\n",
    "def get_chr_stats(chromosome, bbb):\n",
    "    len_chr = bbb.chroms()[chromosome]\n",
    "    peaks = bbb.entries(chromosome, 0,len_chr,withString=False )\n",
    "\n",
    "    # Create peak ranges object\n",
    "    peaks_ranges = pd.DataFrame(peaks)\n",
    "    peaks_ranges.columns = [\"start\", \"end\"]\n",
    "    peaks_ranges[\"len\"] = peaks_ranges.start - peaks_ranges.end\n",
    "    # Stats \n",
    "    merged_intervals, total_length = merge_intervals(peaks)\n",
    "\n",
    "\n",
    "    # Create Summary DF\n",
    "    entry = pd.DataFrame([{\"chr\": chromosome, \"n_peaks\": len(peaks), \"len\": len_chr, \"covered_len\": total_length}])\n",
    "    entry[\"perc_covered\"] = (entry.covered_len * 100) / entry.len\n",
    "    bed_stats = pd.concat([n_peaks,entry],ignore_index=True)\n",
    "    return(bed_stats)\n",
    "\n",
    "def get_bed_stats(bbb): \n",
    "    bed_stats = pd.DataFrame()\n",
    "    for chromosome in set(bbb.chroms().keys()): \n",
    "            bed_stats = pd.concat([bed_stats, get_chr_stats(chromosome, bbb)])\n",
    "    return(bed_stats)"
   ]
  },
  {
   "cell_type": "code",
   "execution_count": 141,
   "id": "fbb7aa29",
   "metadata": {},
   "outputs": [],
   "source": [
    "bed_stats = get_bed_stats(bbb)\n",
    "bed_stats[\"chr\"] = pd.Categorical(bed_stats[\"chr\"], chr_categories)\n",
    "bed_stats = bed_stats.sort_values(by = \"chr\")"
   ]
  },
  {
   "cell_type": "code",
   "execution_count": 163,
   "id": "dbbe0435",
   "metadata": {},
   "outputs": [
    {
     "data": {
      "text/html": [
       "<div>\n",
       "<style scoped>\n",
       "    .dataframe tbody tr th:only-of-type {\n",
       "        vertical-align: middle;\n",
       "    }\n",
       "\n",
       "    .dataframe tbody tr th {\n",
       "        vertical-align: top;\n",
       "    }\n",
       "\n",
       "    .dataframe thead th {\n",
       "        text-align: right;\n",
       "    }\n",
       "</style>\n",
       "<table border=\"1\" class=\"dataframe\">\n",
       "  <thead>\n",
       "    <tr style=\"text-align: right;\">\n",
       "      <th></th>\n",
       "      <th>chr</th>\n",
       "      <th>n_peaks</th>\n",
       "      <th>len</th>\n",
       "      <th>covered_len</th>\n",
       "      <th>perc_covered</th>\n",
       "    </tr>\n",
       "  </thead>\n",
       "  <tbody>\n",
       "    <tr>\n",
       "      <th>0</th>\n",
       "      <td>chr1</td>\n",
       "      <td>10526</td>\n",
       "      <td>248956422</td>\n",
       "      <td>4087026</td>\n",
       "      <td>1.641663</td>\n",
       "    </tr>\n",
       "    <tr>\n",
       "      <th>0</th>\n",
       "      <td>chr2</td>\n",
       "      <td>7868</td>\n",
       "      <td>242193529</td>\n",
       "      <td>3028454</td>\n",
       "      <td>1.250427</td>\n",
       "    </tr>\n",
       "    <tr>\n",
       "      <th>0</th>\n",
       "      <td>chr3</td>\n",
       "      <td>6314</td>\n",
       "      <td>198295559</td>\n",
       "      <td>2407864</td>\n",
       "      <td>1.214280</td>\n",
       "    </tr>\n",
       "    <tr>\n",
       "      <th>0</th>\n",
       "      <td>chr4</td>\n",
       "      <td>4076</td>\n",
       "      <td>190214555</td>\n",
       "      <td>1549908</td>\n",
       "      <td>0.814821</td>\n",
       "    </tr>\n",
       "    <tr>\n",
       "      <th>0</th>\n",
       "      <td>chr5</td>\n",
       "      <td>4891</td>\n",
       "      <td>181538259</td>\n",
       "      <td>1890273</td>\n",
       "      <td>1.041253</td>\n",
       "    </tr>\n",
       "  </tbody>\n",
       "</table>\n",
       "</div>"
      ],
      "text/plain": [
       "    chr  n_peaks        len  covered_len  perc_covered\n",
       "0  chr1    10526  248956422      4087026      1.641663\n",
       "0  chr2     7868  242193529      3028454      1.250427\n",
       "0  chr3     6314  198295559      2407864      1.214280\n",
       "0  chr4     4076  190214555      1549908      0.814821\n",
       "0  chr5     4891  181538259      1890273      1.041253"
      ]
     },
     "execution_count": 163,
     "metadata": {},
     "output_type": "execute_result"
    }
   ],
   "source": [
    "bed_stats.head()"
   ]
  },
  {
   "cell_type": "code",
   "execution_count": null,
   "id": "dcb51c36",
   "metadata": {},
   "outputs": [],
   "source": [
    "# Now visualize "
   ]
  },
  {
   "cell_type": "code",
   "execution_count": 156,
   "id": "3b0b8e49",
   "metadata": {},
   "outputs": [
    {
     "data": {
      "text/plain": [
       "<AxesSubplot:xlabel='n_peaks', ylabel='chr'>"
      ]
     },
     "execution_count": 156,
     "metadata": {},
     "output_type": "execute_result"
    },
    {
     "data": {
      "image/png": "[encoded data removed]",
      "text/plain": [
       "<Figure size 432x432 with 1 Axes>"
      ]
     },
     "metadata": {
      "needs_background": "light"
     },
     "output_type": "display_data"
    }
   ],
   "source": [
    "plt.figure(figsize=(6,6))\n",
    "sns.barplot(data = bed_stats, y = \"chr\", x =\"n_peaks\", color = \"red\")"
   ]
  },
  {
   "cell_type": "code",
   "execution_count": 158,
   "id": "8a8e88be",
   "metadata": {},
   "outputs": [
    {
     "data": {
      "text/plain": [
       "<AxesSubplot:xlabel='perc_covered', ylabel='chr'>"
      ]
     },
     "execution_count": 158,
     "metadata": {},
     "output_type": "execute_result"
    },
    {
     "data": {
      "image/png": "[encoded data removed]",
      "text/plain": [
       "<Figure size 432x432 with 1 Axes>"
      ]
     },
     "metadata": {
      "needs_background": "light"
     },
     "output_type": "display_data"
    }
   ],
   "source": [
    "plt.figure(figsize=(6,6))\n",
    "sns.barplot(data = bed_stats, y = \"chr\", x =\"perc_covered\", color = \"grey\")"
   ]
  },
  {
   "cell_type": "markdown",
   "id": "3750ae47",
   "metadata": {},
   "source": [
    "## Paralogs analysis"
   ]
  },
  {
   "cell_type": "code",
   "execution_count": 3,
   "id": "2eaec3d4",
   "metadata": {},
   "outputs": [],
   "source": [
    "list_ids = \"/home/luisasantus/Desktop/crg_cluster/data/FED/gene_lists/dgd_Hsa_all_v71.genes\"\n",
    "id_df = pd.read_csv(list_ids, sep = \"\\t\", header = None)\n",
    "ids = list(id_df[0])\n",
    "\n",
    "test_genes = \"/home/luisasantus/Desktop/crg_cluster/data/FED/gene_lists/dgd_Hsa_all_v71.tsv\"\n",
    "gene_groups = pd.read_csv(test_genes, sep = \"\\t\")\n",
    "#gene_pairs = gene_groups[gene_groups.NB_Genes > 2]"
   ]
  },
  {
   "cell_type": "code",
   "execution_count": 20,
   "id": "12fe44f2",
   "metadata": {},
   "outputs": [],
   "source": [
    "enrichment_result =  \"/home/luisasantus/Desktop/crg_cluster/data/FED/out/enrichment/dgd_Hsa_all_v71_0.50_overlap_binary.txt\"\n",
    "enrichment = pd.read_csv(enrichment_result, sep = \"\\t\", header = None)\n",
    "enrichment.columns = [\"ENS_ID\", \"track_binary\"]"
   ]
  },
  {
   "cell_type": "code",
   "execution_count": 21,
   "id": "6067c0fe",
   "metadata": {},
   "outputs": [],
   "source": [
    "# Here I can have different comparison functions\n",
    "def comparison_binary_equality(df):\n",
    "    column_index = df.columns.get_loc(\"track_binary\")\n",
    "    a = df.to_numpy() \n",
    "    return(a[0] == a).all(0)[column_index]\n",
    "\n",
    "def get_distance(df):\n",
    "    end_index = df.columns.get_loc(\"end\")\n",
    "    start_index = df.columns.get_loc(\"start\")\n",
    "    max_end = max(df[\"end\"])\n",
    "    min_end = min(df[\"start\"])\n",
    "    return max_end - min_end"
   ]
  },
  {
   "cell_type": "code",
   "execution_count": 5,
   "id": "af2f02e9",
   "metadata": {},
   "outputs": [],
   "source": [
    "# Add enrichment tracks to "
   ]
  },
  {
   "cell_type": "code",
   "execution_count": 22,
   "id": "22524f18",
   "metadata": {},
   "outputs": [],
   "source": [
    "gene_pairs_enriched = gene_groups.merge(enrichment, on = \"ENS_ID\")"
   ]
  },
  {
   "cell_type": "code",
   "execution_count": 23,
   "id": "fe0e470b",
   "metadata": {},
   "outputs": [],
   "source": [
    "group_track_comparison = pd.DataFrame(gene_pairs_enriched.groupby([\"group_id\"]).apply(comparison_binary_equality)).reset_index()\n",
    "group_track_comparison = group_track_comparison.rename(columns= {0:\"track_binary_eval\"})\n",
    "gene_pairs_eval = gene_pairs_enriched.merge(group_track_comparison, on = \"group_id\" )"
   ]
  },
  {
   "cell_type": "code",
   "execution_count": 24,
   "id": "f2052f24",
   "metadata": {},
   "outputs": [
    {
     "data": {
      "text/plain": [
       "True     3394\n",
       "False     103\n",
       "Name: track_binary_eval, dtype: int64"
      ]
     },
     "execution_count": 24,
     "metadata": {},
     "output_type": "execute_result"
    }
   ],
   "source": [
    "gene_pairs_eval.track_binary_eval.value_counts()"
   ]
  },
  {
   "cell_type": "code",
   "execution_count": 27,
   "id": "df1b12ed",
   "metadata": {},
   "outputs": [
    {
     "data": {
      "text/plain": [
       "84998"
      ]
     },
     "execution_count": 27,
     "metadata": {},
     "output_type": "execute_result"
    }
   ],
   "source": [
    "1470067 -1385069"
   ]
  },
  {
   "cell_type": "code",
   "execution_count": 25,
   "id": "c7e2657d",
   "metadata": {},
   "outputs": [],
   "source": [
    "group_distance = pd.DataFrame(gene_pairs_enriched.groupby([\"group_id\"]).apply(get_distance)).reset_index()\n",
    "group_distance = group_distance.rename(columns= {0:\"distance\"})\n",
    "gene_pairs_eval_distance = gene_pairs_eval.merge(group_distance, on = \"group_id\" )"
   ]
  },
  {
   "cell_type": "code",
   "execution_count": 51,
   "id": "b4575aaf",
   "metadata": {},
   "outputs": [
    {
     "data": {
      "text/html": [
       "<div>\n",
       "<style scoped>\n",
       "    .dataframe tbody tr th:only-of-type {\n",
       "        vertical-align: middle;\n",
       "    }\n",
       "\n",
       "    .dataframe tbody tr th {\n",
       "        vertical-align: top;\n",
       "    }\n",
       "\n",
       "    .dataframe thead th {\n",
       "        text-align: right;\n",
       "    }\n",
       "</style>\n",
       "<table border=\"1\" class=\"dataframe\">\n",
       "  <thead>\n",
       "    <tr style=\"text-align: right;\">\n",
       "      <th></th>\n",
       "      <th>chr</th>\n",
       "      <th>group_id</th>\n",
       "      <th>NB_Genes</th>\n",
       "      <th>start</th>\n",
       "      <th>end</th>\n",
       "      <th>strand</th>\n",
       "      <th>ENS_ID</th>\n",
       "      <th>Name</th>\n",
       "      <th>Description</th>\n",
       "      <th>track_binary</th>\n",
       "      <th>track_binary_eval</th>\n",
       "      <th>distance</th>\n",
       "    </tr>\n",
       "  </thead>\n",
       "  <tbody>\n",
       "    <tr>\n",
       "      <th>0</th>\n",
       "      <td>1</td>\n",
       "      <td>1</td>\n",
       "      <td>3</td>\n",
       "      <td>1385069</td>\n",
       "      <td>1405538</td>\n",
       "      <td>1</td>\n",
       "      <td>ENSG00000215915</td>\n",
       "      <td>ATAD3C</td>\n",
       "      <td>ATPase family, AAA domain containing 3C [Sourc...</td>\n",
       "      <td>0</td>\n",
       "      <td>True</td>\n",
       "      <td>84998</td>\n",
       "    </tr>\n",
       "    <tr>\n",
       "      <th>1</th>\n",
       "      <td>1</td>\n",
       "      <td>1</td>\n",
       "      <td>3</td>\n",
       "      <td>1407143</td>\n",
       "      <td>1433228</td>\n",
       "      <td>1</td>\n",
       "      <td>ENSG00000160072</td>\n",
       "      <td>ATAD3B</td>\n",
       "      <td>ATPase family, AAA domain containing 3B [Sourc...</td>\n",
       "      <td>0</td>\n",
       "      <td>True</td>\n",
       "      <td>84998</td>\n",
       "    </tr>\n",
       "    <tr>\n",
       "      <th>2</th>\n",
       "      <td>1</td>\n",
       "      <td>1</td>\n",
       "      <td>3</td>\n",
       "      <td>1447531</td>\n",
       "      <td>1470067</td>\n",
       "      <td>1</td>\n",
       "      <td>ENSG00000197785</td>\n",
       "      <td>ATAD3A</td>\n",
       "      <td>ATPase family, AAA domain containing 3A [Sourc...</td>\n",
       "      <td>0</td>\n",
       "      <td>True</td>\n",
       "      <td>84998</td>\n",
       "    </tr>\n",
       "    <tr>\n",
       "      <th>3</th>\n",
       "      <td>1</td>\n",
       "      <td>2</td>\n",
       "      <td>2</td>\n",
       "      <td>1570603</td>\n",
       "      <td>1590473</td>\n",
       "      <td>-1</td>\n",
       "      <td>ENSG00000248333</td>\n",
       "      <td>CDK11B</td>\n",
       "      <td>cyclin-dependent kinase 11B [Source:HGNC Symbo...</td>\n",
       "      <td>0</td>\n",
       "      <td>True</td>\n",
       "      <td>85163</td>\n",
       "    </tr>\n",
       "    <tr>\n",
       "      <th>4</th>\n",
       "      <td>1</td>\n",
       "      <td>2</td>\n",
       "      <td>2</td>\n",
       "      <td>1634169</td>\n",
       "      <td>1655766</td>\n",
       "      <td>-1</td>\n",
       "      <td>ENSG00000008128</td>\n",
       "      <td>CDK11A</td>\n",
       "      <td>cyclin-dependent kinase 11A [Source:HGNC Symbo...</td>\n",
       "      <td>0</td>\n",
       "      <td>True</td>\n",
       "      <td>85163</td>\n",
       "    </tr>\n",
       "    <tr>\n",
       "      <th>...</th>\n",
       "      <td>...</td>\n",
       "      <td>...</td>\n",
       "      <td>...</td>\n",
       "      <td>...</td>\n",
       "      <td>...</td>\n",
       "      <td>...</td>\n",
       "      <td>...</td>\n",
       "      <td>...</td>\n",
       "      <td>...</td>\n",
       "      <td>...</td>\n",
       "      <td>...</td>\n",
       "      <td>...</td>\n",
       "    </tr>\n",
       "    <tr>\n",
       "      <th>3492</th>\n",
       "      <td>Y</td>\n",
       "      <td>1010</td>\n",
       "      <td>4</td>\n",
       "      <td>25365594</td>\n",
       "      <td>25437503</td>\n",
       "      <td>1</td>\n",
       "      <td>ENSG00000205944</td>\n",
       "      <td>DAZ2</td>\n",
       "      <td>deleted in azoospermia 2 [Source:HGNC Symbol;A...</td>\n",
       "      <td>0</td>\n",
       "      <td>True</td>\n",
       "      <td>1777681</td>\n",
       "    </tr>\n",
       "    <tr>\n",
       "      <th>3493</th>\n",
       "      <td>Y</td>\n",
       "      <td>1010</td>\n",
       "      <td>4</td>\n",
       "      <td>26909216</td>\n",
       "      <td>26959626</td>\n",
       "      <td>-1</td>\n",
       "      <td>ENSG00000187191</td>\n",
       "      <td>DAZ3</td>\n",
       "      <td>deleted in azoospermia 3 [Source:HGNC Symbol;A...</td>\n",
       "      <td>0</td>\n",
       "      <td>True</td>\n",
       "      <td>1777681</td>\n",
       "    </tr>\n",
       "    <tr>\n",
       "      <th>3494</th>\n",
       "      <td>Y</td>\n",
       "      <td>1010</td>\n",
       "      <td>4</td>\n",
       "      <td>26980008</td>\n",
       "      <td>27053183</td>\n",
       "      <td>1</td>\n",
       "      <td>ENSG00000205916</td>\n",
       "      <td>DAZ4</td>\n",
       "      <td>deleted in azoospermia 4 [Source:HGNC Symbol;A...</td>\n",
       "      <td>0</td>\n",
       "      <td>True</td>\n",
       "      <td>1777681</td>\n",
       "    </tr>\n",
       "    <tr>\n",
       "      <th>3495</th>\n",
       "      <td>Y</td>\n",
       "      <td>1011</td>\n",
       "      <td>2</td>\n",
       "      <td>26191376</td>\n",
       "      <td>26194166</td>\n",
       "      <td>-1</td>\n",
       "      <td>ENSG00000172352</td>\n",
       "      <td>CDY1B</td>\n",
       "      <td>chromodomain protein, Y-linked, 1B [Source:HGN...</td>\n",
       "      <td>0</td>\n",
       "      <td>True</td>\n",
       "      <td>1579673</td>\n",
       "    </tr>\n",
       "    <tr>\n",
       "      <th>3496</th>\n",
       "      <td>Y</td>\n",
       "      <td>1011</td>\n",
       "      <td>2</td>\n",
       "      <td>27768264</td>\n",
       "      <td>27771049</td>\n",
       "      <td>1</td>\n",
       "      <td>ENSG00000172288</td>\n",
       "      <td>CDY1</td>\n",
       "      <td>chromodomain protein, Y-linked, 1 [Source:HGNC...</td>\n",
       "      <td>0</td>\n",
       "      <td>True</td>\n",
       "      <td>1579673</td>\n",
       "    </tr>\n",
       "  </tbody>\n",
       "</table>\n",
       "<p>3497 rows × 12 columns</p>\n",
       "</div>"
      ],
      "text/plain": [
       "     chr  group_id  NB_Genes     start       end  strand           ENS_ID  \\\n",
       "0      1         1         3   1385069   1405538       1  ENSG00000215915   \n",
       "1      1         1         3   1407143   1433228       1  ENSG00000160072   \n",
       "2      1         1         3   1447531   1470067       1  ENSG00000197785   \n",
       "3      1         2         2   1570603   1590473      -1  ENSG00000248333   \n",
       "4      1         2         2   1634169   1655766      -1  ENSG00000008128   \n",
       "...   ..       ...       ...       ...       ...     ...              ...   \n",
       "3492   Y      1010         4  25365594  25437503       1  ENSG00000205944   \n",
       "3493   Y      1010         4  26909216  26959626      -1  ENSG00000187191   \n",
       "3494   Y      1010         4  26980008  27053183       1  ENSG00000205916   \n",
       "3495   Y      1011         2  26191376  26194166      -1  ENSG00000172352   \n",
       "3496   Y      1011         2  27768264  27771049       1  ENSG00000172288   \n",
       "\n",
       "        Name                                        Description  track_binary  \\\n",
       "0     ATAD3C  ATPase family, AAA domain containing 3C [Sourc...             0   \n",
       "1     ATAD3B  ATPase family, AAA domain containing 3B [Sourc...             0   \n",
       "2     ATAD3A  ATPase family, AAA domain containing 3A [Sourc...             0   \n",
       "3     CDK11B  cyclin-dependent kinase 11B [Source:HGNC Symbo...             0   \n",
       "4     CDK11A  cyclin-dependent kinase 11A [Source:HGNC Symbo...             0   \n",
       "...      ...                                                ...           ...   \n",
       "3492    DAZ2  deleted in azoospermia 2 [Source:HGNC Symbol;A...             0   \n",
       "3493    DAZ3  deleted in azoospermia 3 [Source:HGNC Symbol;A...             0   \n",
       "3494    DAZ4  deleted in azoospermia 4 [Source:HGNC Symbol;A...             0   \n",
       "3495   CDY1B  chromodomain protein, Y-linked, 1B [Source:HGN...             0   \n",
       "3496    CDY1  chromodomain protein, Y-linked, 1 [Source:HGNC...             0   \n",
       "\n",
       "      track_binary_eval  distance  \n",
       "0                  True     84998  \n",
       "1                  True     84998  \n",
       "2                  True     84998  \n",
       "3                  True     85163  \n",
       "4                  True     85163  \n",
       "...                 ...       ...  \n",
       "3492               True   1777681  \n",
       "3493               True   1777681  \n",
       "3494               True   1777681  \n",
       "3495               True   1579673  \n",
       "3496               True   1579673  \n",
       "\n",
       "[3497 rows x 12 columns]"
      ]
     },
     "execution_count": 51,
     "metadata": {},
     "output_type": "execute_result"
    }
   ],
   "source": [
    "gene_pairs_eval_distance."
   ]
  },
  {
   "cell_type": "code",
   "execution_count": 45,
   "id": "8fbd848d",
   "metadata": {},
   "outputs": [],
   "source": [
    "chr_count = gene_pairs_eval_distance.groupby(\"group_id\")[\"chr\"].count()"
   ]
  },
  {
   "cell_type": "code",
   "execution_count": 58,
   "id": "b884d20f",
   "metadata": {},
   "outputs": [
    {
     "data": {
      "text/plain": [
       "0    3473\n",
       "1      24\n",
       "Name: track_binary, dtype: int64"
      ]
     },
     "execution_count": 58,
     "metadata": {},
     "output_type": "execute_result"
    }
   ],
   "source": [
    "gene_pairs_eval_distance.track_binary.value_counts()"
   ]
  },
  {
   "cell_type": "code",
   "execution_count": 40,
   "id": "860ce443",
   "metadata": {
    "scrolled": true
   },
   "outputs": [
    {
     "data": {
      "text/plain": [
       "chr\n",
       "1     248845629\n",
       "10    135234811\n",
       "11    134248235\n",
       "12    133736051\n",
       "13    113803843\n",
       "14    107283280\n",
       "15    102463298\n",
       "16     90002500\n",
       "17     80709073\n",
       "18     72254448\n",
       "19     58992597\n",
       "2     241637900\n",
       "20     62738524\n",
       "21     47552763\n",
       "22     50709196\n",
       "3     196065374\n",
       "4     191003777\n",
       "5     180795263\n",
       "6     167797998\n",
       "7     152552463\n",
       "8     146176274\n",
       "9     140336268\n",
       "X     153881853\n",
       "Y      27771049\n",
       "Name: end, dtype: int64"
      ]
     },
     "execution_count": 40,
     "metadata": {},
     "output_type": "execute_result"
    }
   ],
   "source": [
    "gene_pairs_eval_distance.groupby(\"chr\")[\"end\"].agg(max)"
   ]
  },
  {
   "cell_type": "code",
   "execution_count": 52,
   "id": "45595074",
   "metadata": {},
   "outputs": [
    {
     "data": {
      "image/png": "[encoded data removed]",
      "text/plain": [
       "<Figure size 432x288 with 1 Axes>"
      ]
     },
     "metadata": {
      "needs_background": "light"
     },
     "output_type": "display_data"
    }
   ],
   "source": [
    "sns.set_context(\"talk\")\n",
    "a = sns.histplot(data= gene_pairs_eval_distance, x = \"track_binary\") "
   ]
  }
 ],
 "metadata": {
  "kernelspec": {
   "display_name": "Python 3 (ipykernel)",
   "language": "python",
   "name": "python3"
  },
  "language_info": {
   "codemirror_mode": {
    "name": "ipython",
    "version": 3
   },
   "file_extension": ".py",
   "mimetype": "text/x-python",
   "name": "python",
   "nbconvert_exporter": "python",
   "pygments_lexer": "ipython3",
   "version": "3.9.12"
  }
 },
 "nbformat": 4,
 "nbformat_minor": 5
}
