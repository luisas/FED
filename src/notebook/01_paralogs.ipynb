{
 "cells": [
  {
   "cell_type": "code",
   "execution_count": 1,
   "id": "170adc67",
   "metadata": {},
   "outputs": [],
   "source": [
    "import pandas as pd\n",
    "import seaborn as sns\n",
    "import pyBigWig\n",
    "import pyranges as pr\n",
    "import genomicranges as gr\n",
    "from matplotlib import pyplot as plt\n",
    "import glob \n",
    "\n",
    "sns.set_context(\"talk\")\n",
    "\n",
    "chr_categories = [str(i) for i in list(range(1,23))]\n",
    "chr_categories.extend([\"X\", \"Y\"])\n",
    "chr_categories = [\"chr\"+i for i in chr_categories]\n",
    "\n",
    "GENOME_LENGHT = pr.data.chromsizes().End.sum()"
   ]
  },
  {
   "cell_type": "code",
   "execution_count": 2,
   "id": "240d183a",
   "metadata": {},
   "outputs": [],
   "source": [
    "def merge_intervals(intervals):\n",
    "    # Sort the intervals by their starting point\n",
    "    sorted_intervals = sorted(intervals, key=lambda x: x[0])\n",
    "\n",
    "    # Initialize the merged interval list with the first interval\n",
    "    merged_intervals = [sorted_intervals[0]]\n",
    "\n",
    "    # Iterate over the sorted intervals, merging overlapping intervals\n",
    "    for interval in sorted_intervals[1:]:\n",
    "        last_merged = merged_intervals[-1]\n",
    "\n",
    "        # If the current interval overlaps with the last merged interval, merge them\n",
    "        if interval[0] <= last_merged[1]:\n",
    "            merged_intervals[-1] = (last_merged[0], max(last_merged[1], interval[1]))\n",
    "        else:\n",
    "            merged_intervals.append(interval)\n",
    "\n",
    "    # Calculate the total length of the merged intervals\n",
    "    total_length = sum(end - start for start, end in merged_intervals)\n",
    "\n",
    "    return merged_intervals, total_length"
   ]
  },
  {
   "cell_type": "markdown",
   "id": "b085518c",
   "metadata": {},
   "source": [
    "## Check how much of the region is covered with binary"
   ]
  },
  {
   "cell_type": "code",
   "execution_count": 3,
   "id": "5f16aa2a",
   "metadata": {},
   "outputs": [],
   "source": [
    "### Collect stats \n",
    "n_peaks = pd.DataFrame()\n",
    "chromosome = \"chr1\"\n",
    "\n",
    "def get_chr_stats(chromosome, bbb):\n",
    "    len_chr = bbb.chroms()[chromosome]\n",
    "    peaks = bbb.entries(chromosome, 0,len_chr,withString=False )\n",
    "\n",
    "    # Create peak ranges object\n",
    "    peaks_ranges = pd.DataFrame(peaks)\n",
    "    peaks_ranges.columns = [\"start\", \"end\"]\n",
    "    peaks_ranges[\"len\"] = peaks_ranges.start - peaks_ranges.end\n",
    "    # Stats \n",
    "    merged_intervals, total_length = merge_intervals(peaks)\n",
    "\n",
    "\n",
    "    # Create Summary DF\n",
    "    entry = pd.DataFrame([{\"chr\": chromosome, \"n_peaks\": len(peaks), \"len\": len_chr, \"covered_len\": total_length}])\n",
    "    entry[\"perc_covered\"] = (entry.covered_len * 100) / entry.len\n",
    "    bed_stats = pd.concat([n_peaks,entry],ignore_index=True)\n",
    "    return(bed_stats)\n",
    "\n",
    "def get_bed_stats(bbb): \n",
    "    bed_stats = pd.DataFrame()\n",
    "    for chromosome in set(bbb.chroms().keys()): \n",
    "            bed_stats = pd.concat([bed_stats, get_chr_stats(chromosome, bbb)])\n",
    "    return(bed_stats)\n",
    "\n",
    "def prep_bed_stats_chrom(bb):\n",
    "    bbb = pyBigWig.open(bb)\n",
    "    tissue = bb.split(\"/\")[-2]\n",
    "    filename = bb.split(\"/\")[-1]\n",
    "    bed_stats = get_bed_stats(bbb)\n",
    "    bed_stats[\"chr\"] = pd.Categorical(bed_stats[\"chr\"], chr_categories)\n",
    "    bed_stats = bed_stats.sort_values(by = \"chr\")\n",
    "    bed_stats[\"tissue\"] = tissue\n",
    "    bed_stats[\"filename\"] = filename\n",
    "    return(bed_stats)"
   ]
  },
  {
   "cell_type": "code",
   "execution_count": 4,
   "id": "bc154725",
   "metadata": {},
   "outputs": [],
   "source": [
    "def pool_bed_stats(bb):\n",
    "    bbb = pyBigWig.open(bb)\n",
    "    tissue = bb.split(\"/\")[-2]\n",
    "    filename = bb.split(\"/\")[-1]\n",
    "    bed_stats = get_bed_stats_pooled(bbb)\n",
    "    bed_stats[\"tissue\"] = tissue\n",
    "    bed_stats[\"filename\"] = filename\n",
    "    return(bed_stats)"
   ]
  },
  {
   "cell_type": "markdown",
   "id": "21807da8",
   "metadata": {},
   "source": [
    "## Which is the coverage of the genome?\n",
    "### Across tissues? "
   ]
  },
  {
   "cell_type": "code",
   "execution_count": 5,
   "id": "459e8b91",
   "metadata": {},
   "outputs": [],
   "source": [
    "import pyranges as pr\n",
    "files = glob.glob(\"/home/luisasantus/Desktop/crg_cluster/data/FED/out/downloads/Homo sapiens/ATAC-seq/*/*.bed\")"
   ]
  },
  {
   "cell_type": "code",
   "execution_count": 13,
   "id": "c7fb9879",
   "metadata": {},
   "outputs": [],
   "source": [
    "def get_bed_pooled_coverage(bed): \n",
    "    tissue = bed.split(\"/\")[-2]\n",
    "    filename = bed.split(\"/\")[-1]\n",
    "    covered =  pr.read_bed(bed).merge(strand=False).length\n",
    "    entry = pd.DataFrame([{\"tissue\": tissue, \"filename\": filename, \"covered\": covered, \"perc_covered\": covered*100/GENOME_LENGHT}])\n",
    "    return(entry)"
   ]
  },
  {
   "cell_type": "code",
   "execution_count": 14,
   "id": "477bcecf",
   "metadata": {},
   "outputs": [
    {
     "ename": "ParserError",
     "evalue": "Error tokenizing data. C error: Calling read(nbytes) on source failed. Try engine='python'.",
     "output_type": "error",
     "traceback": [
      "\u001b[0;31m---------------------------------------------------------------------------\u001b[0m",
      "\u001b[0;31mParserError\u001b[0m                               Traceback (most recent call last)",
      "Input \u001b[0;32mIn [14]\u001b[0m, in \u001b[0;36m<cell line: 1>\u001b[0;34m()\u001b[0m\n\u001b[0;32m----> 1\u001b[0m summary_beds_coverage \u001b[38;5;241m=\u001b[39m pd\u001b[38;5;241m.\u001b[39mconcat(\u001b[38;5;28;43mlist\u001b[39;49m\u001b[43m(\u001b[49m\u001b[38;5;28;43mmap\u001b[39;49m\u001b[43m(\u001b[49m\u001b[43mget_bed_pooled_coverage\u001b[49m\u001b[43m,\u001b[49m\u001b[43mfiles\u001b[49m\u001b[43m)\u001b[49m\u001b[43m)\u001b[49m, ignore_index\u001b[38;5;241m=\u001b[39m \u001b[38;5;28;01mTrue\u001b[39;00m)\n",
      "Input \u001b[0;32mIn [13]\u001b[0m, in \u001b[0;36mget_bed_pooled_coverage\u001b[0;34m(bed)\u001b[0m\n\u001b[1;32m      2\u001b[0m tissue \u001b[38;5;241m=\u001b[39m bed\u001b[38;5;241m.\u001b[39msplit(\u001b[38;5;124m\"\u001b[39m\u001b[38;5;124m/\u001b[39m\u001b[38;5;124m\"\u001b[39m)[\u001b[38;5;241m-\u001b[39m\u001b[38;5;241m2\u001b[39m]\n\u001b[1;32m      3\u001b[0m filename \u001b[38;5;241m=\u001b[39m bed\u001b[38;5;241m.\u001b[39msplit(\u001b[38;5;124m\"\u001b[39m\u001b[38;5;124m/\u001b[39m\u001b[38;5;124m\"\u001b[39m)[\u001b[38;5;241m-\u001b[39m\u001b[38;5;241m1\u001b[39m]\n\u001b[0;32m----> 4\u001b[0m covered \u001b[38;5;241m=\u001b[39m  \u001b[43mpr\u001b[49m\u001b[38;5;241;43m.\u001b[39;49m\u001b[43mread_bed\u001b[49m\u001b[43m(\u001b[49m\u001b[43mbed\u001b[49m\u001b[43m)\u001b[49m\u001b[38;5;241m.\u001b[39mmerge(strand\u001b[38;5;241m=\u001b[39m\u001b[38;5;28;01mFalse\u001b[39;00m)\u001b[38;5;241m.\u001b[39mlength\n\u001b[1;32m      5\u001b[0m entry \u001b[38;5;241m=\u001b[39m pd\u001b[38;5;241m.\u001b[39mDataFrame([{\u001b[38;5;124m\"\u001b[39m\u001b[38;5;124mtissue\u001b[39m\u001b[38;5;124m\"\u001b[39m: tissue, \u001b[38;5;124m\"\u001b[39m\u001b[38;5;124mfilename\u001b[39m\u001b[38;5;124m\"\u001b[39m: filename, \u001b[38;5;124m\"\u001b[39m\u001b[38;5;124mcovered\u001b[39m\u001b[38;5;124m\"\u001b[39m: covered, \u001b[38;5;124m\"\u001b[39m\u001b[38;5;124mperc_covered\u001b[39m\u001b[38;5;124m\"\u001b[39m: covered\u001b[38;5;241m*\u001b[39m\u001b[38;5;241m100\u001b[39m\u001b[38;5;241m/\u001b[39mGENOME_LENGHT}])\n\u001b[1;32m      6\u001b[0m \u001b[38;5;28;01mreturn\u001b[39;00m(entry)\n",
      "File \u001b[0;32m~/anaconda3/lib/python3.9/site-packages/pyranges/readers.py:89\u001b[0m, in \u001b[0;36mread_bed\u001b[0;34m(f, as_df, nrows)\u001b[0m\n\u001b[1;32m     86\u001b[0m \u001b[38;5;28;01mexcept\u001b[39;00m \u001b[38;5;167;01mValueError\u001b[39;00m:\n\u001b[1;32m     87\u001b[0m     header \u001b[38;5;241m=\u001b[39m \u001b[38;5;241m0\u001b[39m\n\u001b[0;32m---> 89\u001b[0m df \u001b[38;5;241m=\u001b[39m \u001b[43mpd\u001b[49m\u001b[38;5;241;43m.\u001b[39;49m\u001b[43mread_csv\u001b[49m\u001b[43m(\u001b[49m\n\u001b[1;32m     90\u001b[0m \u001b[43m    \u001b[49m\u001b[43mf\u001b[49m\u001b[43m,\u001b[49m\n\u001b[1;32m     91\u001b[0m \u001b[43m    \u001b[49m\u001b[43mdtype\u001b[49m\u001b[38;5;241;43m=\u001b[39;49m\u001b[43m{\u001b[49m\n\u001b[1;32m     92\u001b[0m \u001b[43m        \u001b[49m\u001b[38;5;124;43m\"\u001b[39;49m\u001b[38;5;124;43mChromosome\u001b[39;49m\u001b[38;5;124;43m\"\u001b[39;49m\u001b[43m:\u001b[49m\u001b[43m \u001b[49m\u001b[38;5;124;43m\"\u001b[39;49m\u001b[38;5;124;43mcategory\u001b[39;49m\u001b[38;5;124;43m\"\u001b[39;49m\u001b[43m,\u001b[49m\n\u001b[1;32m     93\u001b[0m \u001b[43m        \u001b[49m\u001b[38;5;124;43m\"\u001b[39;49m\u001b[38;5;124;43mStrand\u001b[39;49m\u001b[38;5;124;43m\"\u001b[39;49m\u001b[43m:\u001b[49m\u001b[43m \u001b[49m\u001b[38;5;124;43m\"\u001b[39;49m\u001b[38;5;124;43mcategory\u001b[39;49m\u001b[38;5;124;43m\"\u001b[39;49m\n\u001b[1;32m     94\u001b[0m \u001b[43m    \u001b[49m\u001b[43m}\u001b[49m\u001b[43m,\u001b[49m\n\u001b[1;32m     95\u001b[0m \u001b[43m    \u001b[49m\u001b[43mnrows\u001b[49m\u001b[38;5;241;43m=\u001b[39;49m\u001b[43mnrows\u001b[49m\u001b[43m,\u001b[49m\n\u001b[1;32m     96\u001b[0m \u001b[43m    \u001b[49m\u001b[43mheader\u001b[49m\u001b[38;5;241;43m=\u001b[39;49m\u001b[43mheader\u001b[49m\u001b[43m,\u001b[49m\n\u001b[1;32m     97\u001b[0m \u001b[43m    \u001b[49m\u001b[43msep\u001b[49m\u001b[38;5;241;43m=\u001b[39;49m\u001b[38;5;124;43m\"\u001b[39;49m\u001b[38;5;130;43;01m\\t\u001b[39;49;00m\u001b[38;5;124;43m\"\u001b[39;49m\u001b[43m)\u001b[49m\n\u001b[1;32m     99\u001b[0m df\u001b[38;5;241m.\u001b[39mcolumns \u001b[38;5;241m=\u001b[39m columns[:df\u001b[38;5;241m.\u001b[39mshape[\u001b[38;5;241m1\u001b[39m]]\n\u001b[1;32m    101\u001b[0m \u001b[38;5;28;01mif\u001b[39;00m \u001b[38;5;129;01mnot\u001b[39;00m as_df:\n",
      "File \u001b[0;32m~/anaconda3/lib/python3.9/site-packages/pandas/util/_decorators.py:311\u001b[0m, in \u001b[0;36mdeprecate_nonkeyword_arguments.<locals>.decorate.<locals>.wrapper\u001b[0;34m(*args, **kwargs)\u001b[0m\n\u001b[1;32m    305\u001b[0m \u001b[38;5;28;01mif\u001b[39;00m \u001b[38;5;28mlen\u001b[39m(args) \u001b[38;5;241m>\u001b[39m num_allow_args:\n\u001b[1;32m    306\u001b[0m     warnings\u001b[38;5;241m.\u001b[39mwarn(\n\u001b[1;32m    307\u001b[0m         msg\u001b[38;5;241m.\u001b[39mformat(arguments\u001b[38;5;241m=\u001b[39marguments),\n\u001b[1;32m    308\u001b[0m         \u001b[38;5;167;01mFutureWarning\u001b[39;00m,\n\u001b[1;32m    309\u001b[0m         stacklevel\u001b[38;5;241m=\u001b[39mstacklevel,\n\u001b[1;32m    310\u001b[0m     )\n\u001b[0;32m--> 311\u001b[0m \u001b[38;5;28;01mreturn\u001b[39;00m \u001b[43mfunc\u001b[49m\u001b[43m(\u001b[49m\u001b[38;5;241;43m*\u001b[39;49m\u001b[43margs\u001b[49m\u001b[43m,\u001b[49m\u001b[43m \u001b[49m\u001b[38;5;241;43m*\u001b[39;49m\u001b[38;5;241;43m*\u001b[39;49m\u001b[43mkwargs\u001b[49m\u001b[43m)\u001b[49m\n",
      "File \u001b[0;32m~/anaconda3/lib/python3.9/site-packages/pandas/io/parsers/readers.py:680\u001b[0m, in \u001b[0;36mread_csv\u001b[0;34m(filepath_or_buffer, sep, delimiter, header, names, index_col, usecols, squeeze, prefix, mangle_dupe_cols, dtype, engine, converters, true_values, false_values, skipinitialspace, skiprows, skipfooter, nrows, na_values, keep_default_na, na_filter, verbose, skip_blank_lines, parse_dates, infer_datetime_format, keep_date_col, date_parser, dayfirst, cache_dates, iterator, chunksize, compression, thousands, decimal, lineterminator, quotechar, quoting, doublequote, escapechar, comment, encoding, encoding_errors, dialect, error_bad_lines, warn_bad_lines, on_bad_lines, delim_whitespace, low_memory, memory_map, float_precision, storage_options)\u001b[0m\n\u001b[1;32m    665\u001b[0m kwds_defaults \u001b[38;5;241m=\u001b[39m _refine_defaults_read(\n\u001b[1;32m    666\u001b[0m     dialect,\n\u001b[1;32m    667\u001b[0m     delimiter,\n\u001b[0;32m   (...)\u001b[0m\n\u001b[1;32m    676\u001b[0m     defaults\u001b[38;5;241m=\u001b[39m{\u001b[38;5;124m\"\u001b[39m\u001b[38;5;124mdelimiter\u001b[39m\u001b[38;5;124m\"\u001b[39m: \u001b[38;5;124m\"\u001b[39m\u001b[38;5;124m,\u001b[39m\u001b[38;5;124m\"\u001b[39m},\n\u001b[1;32m    677\u001b[0m )\n\u001b[1;32m    678\u001b[0m kwds\u001b[38;5;241m.\u001b[39mupdate(kwds_defaults)\n\u001b[0;32m--> 680\u001b[0m \u001b[38;5;28;01mreturn\u001b[39;00m \u001b[43m_read\u001b[49m\u001b[43m(\u001b[49m\u001b[43mfilepath_or_buffer\u001b[49m\u001b[43m,\u001b[49m\u001b[43m \u001b[49m\u001b[43mkwds\u001b[49m\u001b[43m)\u001b[49m\n",
      "File \u001b[0;32m~/anaconda3/lib/python3.9/site-packages/pandas/io/parsers/readers.py:581\u001b[0m, in \u001b[0;36m_read\u001b[0;34m(filepath_or_buffer, kwds)\u001b[0m\n\u001b[1;32m    578\u001b[0m     \u001b[38;5;28;01mreturn\u001b[39;00m parser\n\u001b[1;32m    580\u001b[0m \u001b[38;5;28;01mwith\u001b[39;00m parser:\n\u001b[0;32m--> 581\u001b[0m     \u001b[38;5;28;01mreturn\u001b[39;00m \u001b[43mparser\u001b[49m\u001b[38;5;241;43m.\u001b[39;49m\u001b[43mread\u001b[49m\u001b[43m(\u001b[49m\u001b[43mnrows\u001b[49m\u001b[43m)\u001b[49m\n",
      "File \u001b[0;32m~/anaconda3/lib/python3.9/site-packages/pandas/io/parsers/readers.py:1254\u001b[0m, in \u001b[0;36mTextFileReader.read\u001b[0;34m(self, nrows)\u001b[0m\n\u001b[1;32m   1252\u001b[0m nrows \u001b[38;5;241m=\u001b[39m validate_integer(\u001b[38;5;124m\"\u001b[39m\u001b[38;5;124mnrows\u001b[39m\u001b[38;5;124m\"\u001b[39m, nrows)\n\u001b[1;32m   1253\u001b[0m \u001b[38;5;28;01mtry\u001b[39;00m:\n\u001b[0;32m-> 1254\u001b[0m     index, columns, col_dict \u001b[38;5;241m=\u001b[39m \u001b[38;5;28;43mself\u001b[39;49m\u001b[38;5;241;43m.\u001b[39;49m\u001b[43m_engine\u001b[49m\u001b[38;5;241;43m.\u001b[39;49m\u001b[43mread\u001b[49m\u001b[43m(\u001b[49m\u001b[43mnrows\u001b[49m\u001b[43m)\u001b[49m\n\u001b[1;32m   1255\u001b[0m \u001b[38;5;28;01mexcept\u001b[39;00m \u001b[38;5;167;01mException\u001b[39;00m:\n\u001b[1;32m   1256\u001b[0m     \u001b[38;5;28mself\u001b[39m\u001b[38;5;241m.\u001b[39mclose()\n",
      "File \u001b[0;32m~/anaconda3/lib/python3.9/site-packages/pandas/io/parsers/c_parser_wrapper.py:225\u001b[0m, in \u001b[0;36mCParserWrapper.read\u001b[0;34m(self, nrows)\u001b[0m\n\u001b[1;32m    223\u001b[0m \u001b[38;5;28;01mtry\u001b[39;00m:\n\u001b[1;32m    224\u001b[0m     \u001b[38;5;28;01mif\u001b[39;00m \u001b[38;5;28mself\u001b[39m\u001b[38;5;241m.\u001b[39mlow_memory:\n\u001b[0;32m--> 225\u001b[0m         chunks \u001b[38;5;241m=\u001b[39m \u001b[38;5;28;43mself\u001b[39;49m\u001b[38;5;241;43m.\u001b[39;49m\u001b[43m_reader\u001b[49m\u001b[38;5;241;43m.\u001b[39;49m\u001b[43mread_low_memory\u001b[49m\u001b[43m(\u001b[49m\u001b[43mnrows\u001b[49m\u001b[43m)\u001b[49m\n\u001b[1;32m    226\u001b[0m         \u001b[38;5;66;03m# destructive to chunks\u001b[39;00m\n\u001b[1;32m    227\u001b[0m         data \u001b[38;5;241m=\u001b[39m _concatenate_chunks(chunks)\n",
      "File \u001b[0;32m~/anaconda3/lib/python3.9/site-packages/pandas/_libs/parsers.pyx:805\u001b[0m, in \u001b[0;36mpandas._libs.parsers.TextReader.read_low_memory\u001b[0;34m()\u001b[0m\n",
      "File \u001b[0;32m~/anaconda3/lib/python3.9/site-packages/pandas/_libs/parsers.pyx:861\u001b[0m, in \u001b[0;36mpandas._libs.parsers.TextReader._read_rows\u001b[0;34m()\u001b[0m\n",
      "File \u001b[0;32m~/anaconda3/lib/python3.9/site-packages/pandas/_libs/parsers.pyx:847\u001b[0m, in \u001b[0;36mpandas._libs.parsers.TextReader._tokenize_rows\u001b[0;34m()\u001b[0m\n",
      "File \u001b[0;32m~/anaconda3/lib/python3.9/site-packages/pandas/_libs/parsers.pyx:1960\u001b[0m, in \u001b[0;36mpandas._libs.parsers.raise_parser_error\u001b[0;34m()\u001b[0m\n",
      "\u001b[0;31mParserError\u001b[0m: Error tokenizing data. C error: Calling read(nbytes) on source failed. Try engine='python'."
     ]
    }
   ],
   "source": [
    "summary_beds_coverage = pd.concat(list(map(get_bed_pooled_coverage,files)), ignore_index= True)"
   ]
  },
  {
   "cell_type": "code",
   "execution_count": null,
   "id": "dbbe0435",
   "metadata": {},
   "outputs": [],
   "source": [
    "sns.displot(summary_beds_coverage, x = \"perc_covered\" )"
   ]
  },
  {
   "cell_type": "markdown",
   "id": "2cafc217",
   "metadata": {},
   "source": [
    "### And what if we group all of them? "
   ]
  },
  {
   "cell_type": "code",
   "execution_count": 15,
   "id": "a0994de9",
   "metadata": {},
   "outputs": [],
   "source": [
    "collapsed_atac = \"/home/luisasantus/Desktop/crg_cluster/data/FED/out/downloads/Homo sapiens/ATAC-seq/collapsed/ATAC-seq.bed\""
   ]
  },
  {
   "cell_type": "code",
   "execution_count": 16,
   "id": "776a9b2f",
   "metadata": {},
   "outputs": [
    {
     "data": {
      "text/html": [
       "<div>\n",
       "<style scoped>\n",
       "    .dataframe tbody tr th:only-of-type {\n",
       "        vertical-align: middle;\n",
       "    }\n",
       "\n",
       "    .dataframe tbody tr th {\n",
       "        vertical-align: top;\n",
       "    }\n",
       "\n",
       "    .dataframe thead th {\n",
       "        text-align: right;\n",
       "    }\n",
       "</style>\n",
       "<table border=\"1\" class=\"dataframe\">\n",
       "  <thead>\n",
       "    <tr style=\"text-align: right;\">\n",
       "      <th></th>\n",
       "      <th>tissue</th>\n",
       "      <th>filename</th>\n",
       "      <th>covered</th>\n",
       "      <th>perc_covered</th>\n",
       "    </tr>\n",
       "  </thead>\n",
       "  <tbody>\n",
       "    <tr>\n",
       "      <th>0</th>\n",
       "      <td>collapsed</td>\n",
       "      <td>ATAC-seq.bed</td>\n",
       "      <td>283811469</td>\n",
       "      <td>9.167943</td>\n",
       "    </tr>\n",
       "  </tbody>\n",
       "</table>\n",
       "</div>"
      ],
      "text/plain": [
       "      tissue      filename    covered  perc_covered\n",
       "0  collapsed  ATAC-seq.bed  283811469      9.167943"
      ]
     },
     "execution_count": 16,
     "metadata": {},
     "output_type": "execute_result"
    }
   ],
   "source": [
    "get_bed_pooled_coverage(collapsed_atac)"
   ]
  },
  {
   "cell_type": "code",
   "execution_count": null,
   "id": "e1dbc06b",
   "metadata": {},
   "outputs": [],
   "source": []
  },
  {
   "cell_type": "code",
   "execution_count": null,
   "id": "82ad380a",
   "metadata": {},
   "outputs": [],
   "source": []
  },
  {
   "cell_type": "code",
   "execution_count": null,
   "id": "fa1ab1c0",
   "metadata": {},
   "outputs": [],
   "source": []
  },
  {
   "cell_type": "code",
   "execution_count": null,
   "id": "c60f7d5a",
   "metadata": {},
   "outputs": [],
   "source": []
  },
  {
   "cell_type": "markdown",
   "id": "3750ae47",
   "metadata": {},
   "source": [
    "## Paralogs analysis"
   ]
  },
  {
   "cell_type": "code",
   "execution_count": 18,
   "id": "2eaec3d4",
   "metadata": {},
   "outputs": [],
   "source": [
    "list_ids = \"/home/luisasantus/Desktop/crg_cluster/data/FED/gene_lists/dgd_Hsa_all_v71.genes\"\n",
    "id_df = pd.read_csv(list_ids, sep = \"\\t\", header = None)\n",
    "ids = list(id_df[0])\n",
    "\n",
    "test_genes = \"/home/luisasantus/Desktop/crg_cluster/data/FED/gene_lists/dgd_Hsa_all_v71.tsv\"\n",
    "gene_groups = pd.read_csv(test_genes, sep = \"\\t\")\n",
    "#gene_pairs = gene_groups[gene_groups.NB_Genes > 2]"
   ]
  },
  {
   "cell_type": "code",
   "execution_count": 24,
   "id": "12fe44f2",
   "metadata": {},
   "outputs": [],
   "source": [
    "# We are working now with the pooled one\n",
    "enrichment_result =  \"/home/luisasantus/Desktop/crg_cluster/data/FED/out/enrichment/dgd_Hsa_all_v71_ENCFF012SCX_0.50_overlap_binary.txt\"\n",
    "enrichment = pd.read_csv(enrichment_result, sep = \"\\t\", header = None)\n",
    "enrichment.columns = [\"ENS_ID\", \"track_binary\"]"
   ]
  },
  {
   "cell_type": "code",
   "execution_count": 25,
   "id": "6067c0fe",
   "metadata": {},
   "outputs": [],
   "source": [
    "# Here I can have different comparison functions\n",
    "def comparison_binary_equality(df):\n",
    "    column_index = df.columns.get_loc(\"track_binary\")\n",
    "    a = df.to_numpy() \n",
    "    return(a[0] == a).all(0)[column_index]\n",
    "\n",
    "def get_distance(df):\n",
    "    end_index = df.columns.get_loc(\"end\")\n",
    "    start_index = df.columns.get_loc(\"start\")\n",
    "    max_end = max(df[\"end\"])\n",
    "    min_end = min(df[\"start\"])\n",
    "    return max_end - min_end"
   ]
  },
  {
   "cell_type": "code",
   "execution_count": 5,
   "id": "af2f02e9",
   "metadata": {},
   "outputs": [],
   "source": [
    "# Add enrichment tracks to "
   ]
  },
  {
   "cell_type": "code",
   "execution_count": 26,
   "id": "22524f18",
   "metadata": {},
   "outputs": [],
   "source": [
    "gene_pairs_enriched = gene_groups.merge(enrichment, on = \"ENS_ID\")"
   ]
  },
  {
   "cell_type": "code",
   "execution_count": 27,
   "id": "fe0e470b",
   "metadata": {},
   "outputs": [],
   "source": [
    "group_track_comparison = pd.DataFrame(gene_pairs_enriched.groupby([\"group_id\"]).apply(comparison_binary_equality)).reset_index()\n",
    "group_track_comparison = group_track_comparison.rename(columns= {0:\"track_binary_eval\"})\n",
    "gene_pairs_eval = gene_pairs_enriched.merge(group_track_comparison, on = \"group_id\" )"
   ]
  },
  {
   "cell_type": "code",
   "execution_count": 47,
   "id": "f2052f24",
   "metadata": {},
   "outputs": [],
   "source": [
    "# Check how many were called open \n",
    "summary_genes_ocr = gene_pairs_eval.track_binary.value_counts()"
   ]
  },
  {
   "cell_type": "code",
   "execution_count": 53,
   "id": "b18b6e10",
   "metadata": {},
   "outputs": [
    {
     "data": {
      "text/html": [
       "<div>\n",
       "<style scoped>\n",
       "    .dataframe tbody tr th:only-of-type {\n",
       "        vertical-align: middle;\n",
       "    }\n",
       "\n",
       "    .dataframe tbody tr th {\n",
       "        vertical-align: top;\n",
       "    }\n",
       "\n",
       "    .dataframe thead th {\n",
       "        text-align: right;\n",
       "    }\n",
       "</style>\n",
       "<table border=\"1\" class=\"dataframe\">\n",
       "  <thead>\n",
       "    <tr style=\"text-align: right;\">\n",
       "      <th></th>\n",
       "      <th>paralog genes</th>\n",
       "    </tr>\n",
       "  </thead>\n",
       "  <tbody>\n",
       "    <tr>\n",
       "      <th>closed</th>\n",
       "      <td>3451</td>\n",
       "    </tr>\n",
       "    <tr>\n",
       "      <th>open</th>\n",
       "      <td>46</td>\n",
       "    </tr>\n",
       "  </tbody>\n",
       "</table>\n",
       "</div>"
      ],
      "text/plain": [
       "        paralog genes\n",
       "closed           3451\n",
       "open               46"
      ]
     },
     "execution_count": 53,
     "metadata": {},
     "output_type": "execute_result"
    }
   ],
   "source": [
    "pd.DataFrame(summary_genes_ocr).rename(index = { 0 : \"closed\", 1: \"open\"}, columns = {\"track_binary\": \"paralog genes\"})"
   ]
  },
  {
   "cell_type": "markdown",
   "id": "686dad65",
   "metadata": {},
   "source": [
    "# Check the distances across paralogs "
   ]
  },
  {
   "cell_type": "code",
   "execution_count": 41,
   "id": "c7e2657d",
   "metadata": {},
   "outputs": [],
   "source": [
    "group_distance = pd.DataFrame(gene_pairs_enriched.groupby([\"group_id\"]).apply(get_distance)).reset_index()\n",
    "group_distance = group_distance.rename(columns= {0:\"distance\"})\n",
    "gene_pairs_eval_distance = gene_pairs_eval.merge(group_distance, on = \"group_id\" )\n",
    "chr_count = gene_pairs_eval_distance.groupby(\"group_id\")[\"chr\"].count()"
   ]
  },
  {
   "cell_type": "code",
   "execution_count": 33,
   "id": "b884d20f",
   "metadata": {},
   "outputs": [
    {
     "data": {
      "text/plain": [
       "0    3451\n",
       "1      46\n",
       "Name: track_binary, dtype: int64"
      ]
     },
     "execution_count": 33,
     "metadata": {},
     "output_type": "execute_result"
    }
   ],
   "source": [
    "gene_pairs_eval_distance.track_binary.value_counts()"
   ]
  },
  {
   "cell_type": "code",
   "execution_count": 43,
   "id": "860ce443",
   "metadata": {
    "scrolled": true
   },
   "outputs": [
    {
     "data": {
      "text/html": [
       "<div>\n",
       "<style scoped>\n",
       "    .dataframe tbody tr th:only-of-type {\n",
       "        vertical-align: middle;\n",
       "    }\n",
       "\n",
       "    .dataframe tbody tr th {\n",
       "        vertical-align: top;\n",
       "    }\n",
       "\n",
       "    .dataframe thead th {\n",
       "        text-align: right;\n",
       "    }\n",
       "</style>\n",
       "<table border=\"1\" class=\"dataframe\">\n",
       "  <thead>\n",
       "    <tr style=\"text-align: right;\">\n",
       "      <th></th>\n",
       "      <th>chr</th>\n",
       "      <th>group_id</th>\n",
       "      <th>NB_Genes</th>\n",
       "      <th>start</th>\n",
       "      <th>end</th>\n",
       "      <th>strand</th>\n",
       "      <th>ENS_ID</th>\n",
       "      <th>Name</th>\n",
       "      <th>Description</th>\n",
       "      <th>track_binary</th>\n",
       "      <th>track_binary_eval</th>\n",
       "      <th>distance</th>\n",
       "    </tr>\n",
       "  </thead>\n",
       "  <tbody>\n",
       "    <tr>\n",
       "      <th>0</th>\n",
       "      <td>1</td>\n",
       "      <td>1</td>\n",
       "      <td>3</td>\n",
       "      <td>1385069</td>\n",
       "      <td>1405538</td>\n",
       "      <td>1</td>\n",
       "      <td>ENSG00000215915</td>\n",
       "      <td>ATAD3C</td>\n",
       "      <td>ATPase family, AAA domain containing 3C [Sourc...</td>\n",
       "      <td>0</td>\n",
       "      <td>True</td>\n",
       "      <td>84998</td>\n",
       "    </tr>\n",
       "    <tr>\n",
       "      <th>1</th>\n",
       "      <td>1</td>\n",
       "      <td>1</td>\n",
       "      <td>3</td>\n",
       "      <td>1407143</td>\n",
       "      <td>1433228</td>\n",
       "      <td>1</td>\n",
       "      <td>ENSG00000160072</td>\n",
       "      <td>ATAD3B</td>\n",
       "      <td>ATPase family, AAA domain containing 3B [Sourc...</td>\n",
       "      <td>0</td>\n",
       "      <td>True</td>\n",
       "      <td>84998</td>\n",
       "    </tr>\n",
       "    <tr>\n",
       "      <th>2</th>\n",
       "      <td>1</td>\n",
       "      <td>1</td>\n",
       "      <td>3</td>\n",
       "      <td>1447531</td>\n",
       "      <td>1470067</td>\n",
       "      <td>1</td>\n",
       "      <td>ENSG00000197785</td>\n",
       "      <td>ATAD3A</td>\n",
       "      <td>ATPase family, AAA domain containing 3A [Sourc...</td>\n",
       "      <td>0</td>\n",
       "      <td>True</td>\n",
       "      <td>84998</td>\n",
       "    </tr>\n",
       "    <tr>\n",
       "      <th>3</th>\n",
       "      <td>1</td>\n",
       "      <td>2</td>\n",
       "      <td>2</td>\n",
       "      <td>1570603</td>\n",
       "      <td>1590473</td>\n",
       "      <td>-1</td>\n",
       "      <td>ENSG00000248333</td>\n",
       "      <td>CDK11B</td>\n",
       "      <td>cyclin-dependent kinase 11B [Source:HGNC Symbo...</td>\n",
       "      <td>0</td>\n",
       "      <td>True</td>\n",
       "      <td>85163</td>\n",
       "    </tr>\n",
       "    <tr>\n",
       "      <th>4</th>\n",
       "      <td>1</td>\n",
       "      <td>2</td>\n",
       "      <td>2</td>\n",
       "      <td>1634169</td>\n",
       "      <td>1655766</td>\n",
       "      <td>-1</td>\n",
       "      <td>ENSG00000008128</td>\n",
       "      <td>CDK11A</td>\n",
       "      <td>cyclin-dependent kinase 11A [Source:HGNC Symbo...</td>\n",
       "      <td>0</td>\n",
       "      <td>True</td>\n",
       "      <td>85163</td>\n",
       "    </tr>\n",
       "    <tr>\n",
       "      <th>...</th>\n",
       "      <td>...</td>\n",
       "      <td>...</td>\n",
       "      <td>...</td>\n",
       "      <td>...</td>\n",
       "      <td>...</td>\n",
       "      <td>...</td>\n",
       "      <td>...</td>\n",
       "      <td>...</td>\n",
       "      <td>...</td>\n",
       "      <td>...</td>\n",
       "      <td>...</td>\n",
       "      <td>...</td>\n",
       "    </tr>\n",
       "    <tr>\n",
       "      <th>3492</th>\n",
       "      <td>Y</td>\n",
       "      <td>1010</td>\n",
       "      <td>4</td>\n",
       "      <td>25365594</td>\n",
       "      <td>25437503</td>\n",
       "      <td>1</td>\n",
       "      <td>ENSG00000205944</td>\n",
       "      <td>DAZ2</td>\n",
       "      <td>deleted in azoospermia 2 [Source:HGNC Symbol;A...</td>\n",
       "      <td>0</td>\n",
       "      <td>True</td>\n",
       "      <td>1777681</td>\n",
       "    </tr>\n",
       "    <tr>\n",
       "      <th>3493</th>\n",
       "      <td>Y</td>\n",
       "      <td>1010</td>\n",
       "      <td>4</td>\n",
       "      <td>26909216</td>\n",
       "      <td>26959626</td>\n",
       "      <td>-1</td>\n",
       "      <td>ENSG00000187191</td>\n",
       "      <td>DAZ3</td>\n",
       "      <td>deleted in azoospermia 3 [Source:HGNC Symbol;A...</td>\n",
       "      <td>0</td>\n",
       "      <td>True</td>\n",
       "      <td>1777681</td>\n",
       "    </tr>\n",
       "    <tr>\n",
       "      <th>3494</th>\n",
       "      <td>Y</td>\n",
       "      <td>1010</td>\n",
       "      <td>4</td>\n",
       "      <td>26980008</td>\n",
       "      <td>27053183</td>\n",
       "      <td>1</td>\n",
       "      <td>ENSG00000205916</td>\n",
       "      <td>DAZ4</td>\n",
       "      <td>deleted in azoospermia 4 [Source:HGNC Symbol;A...</td>\n",
       "      <td>0</td>\n",
       "      <td>True</td>\n",
       "      <td>1777681</td>\n",
       "    </tr>\n",
       "    <tr>\n",
       "      <th>3495</th>\n",
       "      <td>Y</td>\n",
       "      <td>1011</td>\n",
       "      <td>2</td>\n",
       "      <td>26191376</td>\n",
       "      <td>26194166</td>\n",
       "      <td>-1</td>\n",
       "      <td>ENSG00000172352</td>\n",
       "      <td>CDY1B</td>\n",
       "      <td>chromodomain protein, Y-linked, 1B [Source:HGN...</td>\n",
       "      <td>0</td>\n",
       "      <td>True</td>\n",
       "      <td>1579673</td>\n",
       "    </tr>\n",
       "    <tr>\n",
       "      <th>3496</th>\n",
       "      <td>Y</td>\n",
       "      <td>1011</td>\n",
       "      <td>2</td>\n",
       "      <td>27768264</td>\n",
       "      <td>27771049</td>\n",
       "      <td>1</td>\n",
       "      <td>ENSG00000172288</td>\n",
       "      <td>CDY1</td>\n",
       "      <td>chromodomain protein, Y-linked, 1 [Source:HGNC...</td>\n",
       "      <td>0</td>\n",
       "      <td>True</td>\n",
       "      <td>1579673</td>\n",
       "    </tr>\n",
       "  </tbody>\n",
       "</table>\n",
       "<p>3497 rows × 12 columns</p>\n",
       "</div>"
      ],
      "text/plain": [
       "     chr  group_id  NB_Genes     start       end  strand           ENS_ID  \\\n",
       "0      1         1         3   1385069   1405538       1  ENSG00000215915   \n",
       "1      1         1         3   1407143   1433228       1  ENSG00000160072   \n",
       "2      1         1         3   1447531   1470067       1  ENSG00000197785   \n",
       "3      1         2         2   1570603   1590473      -1  ENSG00000248333   \n",
       "4      1         2         2   1634169   1655766      -1  ENSG00000008128   \n",
       "...   ..       ...       ...       ...       ...     ...              ...   \n",
       "3492   Y      1010         4  25365594  25437503       1  ENSG00000205944   \n",
       "3493   Y      1010         4  26909216  26959626      -1  ENSG00000187191   \n",
       "3494   Y      1010         4  26980008  27053183       1  ENSG00000205916   \n",
       "3495   Y      1011         2  26191376  26194166      -1  ENSG00000172352   \n",
       "3496   Y      1011         2  27768264  27771049       1  ENSG00000172288   \n",
       "\n",
       "        Name                                        Description  track_binary  \\\n",
       "0     ATAD3C  ATPase family, AAA domain containing 3C [Sourc...             0   \n",
       "1     ATAD3B  ATPase family, AAA domain containing 3B [Sourc...             0   \n",
       "2     ATAD3A  ATPase family, AAA domain containing 3A [Sourc...             0   \n",
       "3     CDK11B  cyclin-dependent kinase 11B [Source:HGNC Symbo...             0   \n",
       "4     CDK11A  cyclin-dependent kinase 11A [Source:HGNC Symbo...             0   \n",
       "...      ...                                                ...           ...   \n",
       "3492    DAZ2  deleted in azoospermia 2 [Source:HGNC Symbol;A...             0   \n",
       "3493    DAZ3  deleted in azoospermia 3 [Source:HGNC Symbol;A...             0   \n",
       "3494    DAZ4  deleted in azoospermia 4 [Source:HGNC Symbol;A...             0   \n",
       "3495   CDY1B  chromodomain protein, Y-linked, 1B [Source:HGN...             0   \n",
       "3496    CDY1  chromodomain protein, Y-linked, 1 [Source:HGNC...             0   \n",
       "\n",
       "      track_binary_eval  distance  \n",
       "0                  True     84998  \n",
       "1                  True     84998  \n",
       "2                  True     84998  \n",
       "3                  True     85163  \n",
       "4                  True     85163  \n",
       "...                 ...       ...  \n",
       "3492               True   1777681  \n",
       "3493               True   1777681  \n",
       "3494               True   1777681  \n",
       "3495               True   1579673  \n",
       "3496               True   1579673  \n",
       "\n",
       "[3497 rows x 12 columns]"
      ]
     },
     "execution_count": 43,
     "metadata": {},
     "output_type": "execute_result"
    }
   ],
   "source": [
    "gene_pairs_eval_distance"
   ]
  },
  {
   "cell_type": "code",
   "execution_count": 44,
   "id": "45595074",
   "metadata": {},
   "outputs": [
    {
     "data": {
      "image/png": "[encoded data removed]",
      "text/plain": [
       "<Figure size 432x288 with 1 Axes>"
      ]
     },
     "metadata": {
      "needs_background": "light"
     },
     "output_type": "display_data"
    }
   ],
   "source": [
    "sns.set_context(\"talk\")\n",
    "a = sns.histplot(data= gene_pairs_eval_distance, x = \"distance\") "
   ]
  }
 ],
 "metadata": {
  "kernelspec": {
   "display_name": "Python 3 (ipykernel)",
   "language": "python",
   "name": "python3"
  },
  "language_info": {
   "codemirror_mode": {
    "name": "ipython",
    "version": 3
   },
   "file_extension": ".py",
   "mimetype": "text/x-python",
   "name": "python",
   "nbconvert_exporter": "python",
   "pygments_lexer": "ipython3",
   "version": "3.9.12"
  }
 },
 "nbformat": 4,
 "nbformat_minor": 5
}
