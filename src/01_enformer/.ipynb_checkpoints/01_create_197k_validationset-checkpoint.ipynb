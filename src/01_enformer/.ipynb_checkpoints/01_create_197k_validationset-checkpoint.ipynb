{
 "cells": [
  {
   "cell_type": "markdown",
   "id": "2da5f651",
   "metadata": {},
   "source": [
    "# Create validation dataset 197k"
   ]
  },
  {
   "cell_type": "markdown",
   "id": "23917398",
   "metadata": {},
   "source": [
    "### import modules and load local files"
   ]
  },
  {
   "cell_type": "code",
   "execution_count": 218,
   "id": "d49b248a",
   "metadata": {},
   "outputs": [],
   "source": [
    "import tensorflow as tf\n",
    "import tensorflow_hub as hub\n",
    "import joblib\n",
    "import gzip\n",
    "import kipoiseq\n",
    "from kipoiseq import Interval\n",
    "import pyfaidx\n",
    "import statistics\n",
    "import pandas as pd\n",
    "import numpy as np\n",
    "\n",
    "import os\n",
    "from tqdm import tqdm\n",
    "import importlib.util\n",
    "import inspect\n",
    "from typing import Any, Callable, Dict, Optional, Text, Union, Iterable\n",
    "import attention_module\n",
    "import sonnet as snt\n",
    "import pickle\n"
   ]
  },
  {
   "cell_type": "code",
   "execution_count": 219,
   "id": "b61d7fac",
   "metadata": {},
   "outputs": [
    {
     "data": {
      "text/plain": [
       "Faidx(\"../../../../data/FED/hg38.fa\")"
      ]
     },
     "execution_count": 219,
     "metadata": {},
     "output_type": "execute_result"
    }
   ],
   "source": [
    "transform_path = 'gs://dm-enformer/models/enformer.finetuned.SAD.robustscaler-PCA500-robustscaler.transform.pkl'\n",
    "model_path = 'https://tfhub.dev/deepmind/enformer/1'\n",
    "datadir = \"../../../../data/FED\"\n",
    "outputdir = os.path.join(datadir, \"hd5\")\n",
    "fasta_file = os.path.join(datadir, \"hg38.fa\")\n",
    "human_sequences = os.path.join(datadir, \"data_human_sequences.bed\")\n",
    "pyfaidx.Faidx(fasta_file)"
   ]
  },
  {
   "cell_type": "code",
   "execution_count": 220,
   "id": "d19838c4",
   "metadata": {},
   "outputs": [],
   "source": [
    "# import utils.py as module\n",
    "spec_utils = importlib.util.spec_from_file_location(\"enformer\", os.path.join(os.getcwd() ,\"utils.py\"))\n",
    "utils = importlib.util.module_from_spec(spec_utils)\n",
    "spec_utils.loader.exec_module(utils)\n",
    "from utils import * "
   ]
  },
  {
   "cell_type": "code",
   "execution_count": 221,
   "id": "0b62ac2e",
   "metadata": {},
   "outputs": [],
   "source": [
    "model = Enformer(model_path)"
   ]
  },
  {
   "cell_type": "code",
   "execution_count": 222,
   "id": "00912f4e",
   "metadata": {},
   "outputs": [],
   "source": [
    "# import enformer.py as module\n",
    "spec = importlib.util.spec_from_file_location(\"enformer\", os.path.join(os.getcwd() ,\"enformer.py\"))\n",
    "enformer = importlib.util.module_from_spec(spec)\n",
    "spec.loader.exec_module(enformer)\n",
    "from enformer import * "
   ]
  },
  {
   "cell_type": "code",
   "execution_count": 223,
   "id": "8568b0a1",
   "metadata": {},
   "outputs": [],
   "source": [
    "fasta_extractor = FastaStringExtractor(fasta_file)"
   ]
  },
  {
   "cell_type": "code",
   "execution_count": 224,
   "id": "72dc8036",
   "metadata": {},
   "outputs": [
    {
     "data": {
      "text/plain": [
       "34021    None\n",
       "34022    None\n",
       "34023    None\n",
       "34024    None\n",
       "34025    None\n",
       "         ... \n",
       "36229    None\n",
       "36230    None\n",
       "36231    None\n",
       "36232    None\n",
       "36233    None\n",
       "Length: 2213, dtype: object"
      ]
     },
     "execution_count": 224,
     "metadata": {},
     "output_type": "execute_result"
    }
   ],
   "source": [
    "df = pd.read_csv(human_sequences, memory_map=True, header=None, index_col=False, delimiter=\"\\t\")\n",
    "# keep only validation intervals \n",
    "validation_intervals= df[df[3]==\"valid\"]\n",
    "#validation_intervals = validation_intervals.head()\n",
    "# create list with interval\n",
    "interval_list = list()\n",
    "validation_intervals.apply(lambda row : interval_list.append(kipoiseq.Interval(row[0],row[1], row[2])), axis = 1)"
   ]
  },
  {
   "cell_type": "code",
   "execution_count": 225,
   "id": "5307ad31",
   "metadata": {},
   "outputs": [
    {
     "data": {
      "text/html": [
       "<div>\n",
       "<style scoped>\n",
       "    .dataframe tbody tr th:only-of-type {\n",
       "        vertical-align: middle;\n",
       "    }\n",
       "\n",
       "    .dataframe tbody tr th {\n",
       "        vertical-align: top;\n",
       "    }\n",
       "\n",
       "    .dataframe thead th {\n",
       "        text-align: right;\n",
       "    }\n",
       "</style>\n",
       "<table border=\"1\" class=\"dataframe\">\n",
       "  <thead>\n",
       "    <tr style=\"text-align: right;\">\n",
       "      <th></th>\n",
       "      <th>0</th>\n",
       "      <th>1</th>\n",
       "      <th>2</th>\n",
       "      <th>3</th>\n",
       "    </tr>\n",
       "  </thead>\n",
       "  <tbody>\n",
       "    <tr>\n",
       "      <th>34021</th>\n",
       "      <td>chr6</td>\n",
       "      <td>165740202</td>\n",
       "      <td>165871274</td>\n",
       "      <td>valid</td>\n",
       "    </tr>\n",
       "    <tr>\n",
       "      <th>34022</th>\n",
       "      <td>chrX</td>\n",
       "      <td>55044496</td>\n",
       "      <td>55175568</td>\n",
       "      <td>valid</td>\n",
       "    </tr>\n",
       "    <tr>\n",
       "      <th>34023</th>\n",
       "      <td>chrX</td>\n",
       "      <td>84489673</td>\n",
       "      <td>84620745</td>\n",
       "      <td>valid</td>\n",
       "    </tr>\n",
       "    <tr>\n",
       "      <th>34024</th>\n",
       "      <td>chrX</td>\n",
       "      <td>26382093</td>\n",
       "      <td>26513165</td>\n",
       "      <td>valid</td>\n",
       "    </tr>\n",
       "    <tr>\n",
       "      <th>34025</th>\n",
       "      <td>chr7</td>\n",
       "      <td>2304644</td>\n",
       "      <td>2435716</td>\n",
       "      <td>valid</td>\n",
       "    </tr>\n",
       "    <tr>\n",
       "      <th>...</th>\n",
       "      <td>...</td>\n",
       "      <td>...</td>\n",
       "      <td>...</td>\n",
       "      <td>...</td>\n",
       "    </tr>\n",
       "    <tr>\n",
       "      <th>36229</th>\n",
       "      <td>chrX</td>\n",
       "      <td>16977595</td>\n",
       "      <td>17108667</td>\n",
       "      <td>valid</td>\n",
       "    </tr>\n",
       "    <tr>\n",
       "      <th>36230</th>\n",
       "      <td>chr20</td>\n",
       "      <td>45038994</td>\n",
       "      <td>45170066</td>\n",
       "      <td>valid</td>\n",
       "    </tr>\n",
       "    <tr>\n",
       "      <th>36231</th>\n",
       "      <td>chrX</td>\n",
       "      <td>24547069</td>\n",
       "      <td>24678141</td>\n",
       "      <td>valid</td>\n",
       "    </tr>\n",
       "    <tr>\n",
       "      <th>36232</th>\n",
       "      <td>chr2</td>\n",
       "      <td>235793611</td>\n",
       "      <td>235924683</td>\n",
       "      <td>valid</td>\n",
       "    </tr>\n",
       "    <tr>\n",
       "      <th>36233</th>\n",
       "      <td>chrX</td>\n",
       "      <td>88274410</td>\n",
       "      <td>88405482</td>\n",
       "      <td>valid</td>\n",
       "    </tr>\n",
       "  </tbody>\n",
       "</table>\n",
       "<p>2213 rows × 4 columns</p>\n",
       "</div>"
      ],
      "text/plain": [
       "           0          1          2      3\n",
       "34021   chr6  165740202  165871274  valid\n",
       "34022   chrX   55044496   55175568  valid\n",
       "34023   chrX   84489673   84620745  valid\n",
       "34024   chrX   26382093   26513165  valid\n",
       "34025   chr7    2304644    2435716  valid\n",
       "...      ...        ...        ...    ...\n",
       "36229   chrX   16977595   17108667  valid\n",
       "36230  chr20   45038994   45170066  valid\n",
       "36231   chrX   24547069   24678141  valid\n",
       "36232   chr2  235793611  235924683  valid\n",
       "36233   chrX   88274410   88405482  valid\n",
       "\n",
       "[2213 rows x 4 columns]"
      ]
     },
     "execution_count": 225,
     "metadata": {},
     "output_type": "execute_result"
    }
   ],
   "source": [
    "validation_intervals"
   ]
  },
  {
   "cell_type": "code",
   "execution_count": 226,
   "id": "261b9985",
   "metadata": {},
   "outputs": [],
   "source": [
    "# Create dictionary for search (can be improved! quite slow)\n",
    "#human_validation_dict = {}\n",
    "#for interval in interval_list: \n",
    "#    sequence = one_hot_encode(fasta_extractor.extract(interval))\n",
    "#    human_validation_dict[interval] = sequence\n",
    "    \n",
    "# -------- save\n",
    "enformer_dict_file = os.path.join(outputdir,'00_enformer_dict_seqs.h5')\n",
    "#with open(enformer_dict_file, 'wb') as config_dictionary_file:\n",
    "#    pickle.dump(human_validation_dict, config_dictionary_file)\n",
    "    \n",
    "# -------- read \n",
    "with open(enformer_dict_file, 'rb') as config_dictionary_file:\n",
    "    human_validation_dict = pickle.load(config_dictionary_file)\n",
    "    "
   ]
  },
  {
   "cell_type": "code",
   "execution_count": 227,
   "id": "bb8a8699",
   "metadata": {},
   "outputs": [
    {
     "name": "stdout",
     "output_type": "stream",
     "text": [
      "Number of sequences in dictionary\n",
      "2213\n"
     ]
    }
   ],
   "source": [
    "print(\"Number of sequences in dictionary\")\n",
    "print(len(human_validation_dict.keys()))"
   ]
  },
  {
   "cell_type": "code",
   "execution_count": 228,
   "id": "5ca0826e",
   "metadata": {},
   "outputs": [],
   "source": [
    "def get_interval_from_sequence(sequence, human_validation_dict=human_validation_dict): \n",
    "    for interval, ref_sequence in human_validation_dict.items():\n",
    "        if np.allclose(sequence,ref_sequence):\n",
    "            return(interval)"
   ]
  },
  {
   "cell_type": "code",
   "execution_count": 229,
   "id": "7e6a52bc",
   "metadata": {},
   "outputs": [],
   "source": [
    "# Create dataset with older sequences \n",
    "human_dataset = get_dataset('human', 'valid').batch(1).repeat()"
   ]
  },
  {
   "cell_type": "code",
   "execution_count": 230,
   "id": "623a1c0f",
   "metadata": {},
   "outputs": [
    {
     "name": "stderr",
     "output_type": "stream",
     "text": [
      "3it [00:09,  3.16s/it]\n"
     ]
    }
   ],
   "source": [
    "## Create new dataset\n",
    "dataset_197k = []\n",
    "NEW_SEQUENCE_LENGTH = 196_608\n",
    "max_steps = 2\n",
    "\n",
    "for i, batch in tqdm(enumerate(human_dataset)):\n",
    "    batch_197k = {}\n",
    "    # 1 from the sequence 131k get the sequence 197k\n",
    "    interval_test = get_interval_from_sequence(batch[\"sequence\"])\n",
    "    sequence_197k = one_hot_encode(fasta_extractor.extract(interval_test.resize(NEW_SEQUENCE_LENGTH)))\n",
    "    batch_197k[\"sequence\"] = tf.constant(sequence_197k[np.newaxis])\n",
    "    \n",
    "    # add same real targets\n",
    "    batch_197k[\"target\"] = batch[\"target\"]\n",
    "    dataset_197k.append(batch_197k)\n",
    "    if max_steps is not None and i > max_steps:\n",
    "        break\n",
    "\n",
    "file = os.path.join(outputdir,'new_dataset_197k_valid.h5')\n",
    "\n",
    "# Step 2\n",
    "with open(file, 'wb') as config_dictionary_file:\n",
    "    pickle.dump(dataset_197k, config_dictionary_file)"
   ]
  },
  {
   "cell_type": "code",
   "execution_count": 231,
   "id": "6474e605",
   "metadata": {},
   "outputs": [
    {
     "data": {
      "text/plain": [
       "<tf.Tensor: shape=(1, 196608, 4), dtype=float32, numpy=\n",
       "array([[[0., 0., 1., 0.],\n",
       "        [0., 0., 1., 0.],\n",
       "        [0., 0., 0., 1.],\n",
       "        ...,\n",
       "        [1., 0., 0., 0.],\n",
       "        [1., 0., 0., 0.],\n",
       "        [0., 1., 0., 0.]]], dtype=float32)>"
      ]
     },
     "execution_count": 231,
     "metadata": {},
     "output_type": "execute_result"
    }
   ],
   "source": [
    "dataset_197k[1][\"sequence\"]"
   ]
  }
 ],
 "metadata": {
  "kernelspec": {
   "display_name": "Python 3 (ipykernel)",
   "language": "python",
   "name": "python3"
  },
  "language_info": {
   "codemirror_mode": {
    "name": "ipython",
    "version": 3
   },
   "file_extension": ".py",
   "mimetype": "text/x-python",
   "name": "python",
   "nbconvert_exporter": "python",
   "pygments_lexer": "ipython3",
   "version": "3.8.10"
  }
 },
 "nbformat": 4,
 "nbformat_minor": 5
}
